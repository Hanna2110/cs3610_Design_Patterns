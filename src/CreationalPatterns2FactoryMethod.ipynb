{
 "cells": [
  {
   "cell_type": "code",
   "execution_count": null,
   "metadata": {},
   "outputs": [],
   "source": [
    "%reload_ext autoreload\n",
    "%autoreload 2"
   ]
  },
  {
   "cell_type": "markdown",
   "metadata": {},
   "source": [
    "# Factory Method"
   ]
  },
  {
   "cell_type": "markdown",
   "metadata": {},
   "source": [
    "### Problem"
   ]
  },
  {
   "cell_type": "markdown",
   "metadata": {},
   "source": [
    "When developing code, you may instantiate objects directly in methods or in classes."
   ]
  },
  {
   "cell_type": "markdown",
   "metadata": {},
   "source": [
    "Imagine an application for designing houses and the house has a chair already added on the floor by default. \n",
    "And you need to give the option to the user to choose different chairs, and how many *at runtime*.\n",
    "\n",
    "This type of an application requires an `object with a specific interface to perform its tasks`. \n",
    "\n",
    "The `concrete implementation of the interface is identified by some parameter`.\n",
    "\n",
    "Instead of the chair being hard coded into the project when it started (instead of using a complex *if/elif/else* conditional structure to determine the concrete implementation), the user now has the option to choose.\n",
    "\n",
    "How?"
   ]
  },
  {
   "cell_type": "markdown",
   "metadata": {},
   "source": [
    "Instead of the client code directly creating objects, it delegates the responsibility to **an extra abstraction level** (between the creation of the object and where it is used in your project).\n",
    "\n",
    "The application will delegate the decision about concrete implementation to a separate component that creates the concrete object. \n",
    "With this approach, the application code is simplified, making it more reusable and easier to maintain"
   ]
  },
  {
   "cell_type": "markdown",
   "metadata": {},
   "source": [
    "### Introducing Factory Method"
   ]
  }
 ],
 "metadata": {
  "kernelspec": {
   "display_name": ".venv",
   "language": "python",
   "name": "python3"
  },
  "language_info": {
   "name": "python",
   "version": "3.13.0"
  }
 },
 "nbformat": 4,
 "nbformat_minor": 2
}
