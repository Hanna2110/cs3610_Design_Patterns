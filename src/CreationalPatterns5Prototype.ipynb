{
 "cells": [
  {
   "cell_type": "markdown",
   "metadata": {},
   "source": [
    "# The Prototype Pattern"
   ]
  },
  {
   "cell_type": "markdown",
   "metadata": {},
   "source": [
    "### Problem"
   ]
  },
  {
   "cell_type": "markdown",
   "metadata": {},
   "source": [
    "This pattern is particularly useful when **the cost of creating a new object is high** and when **an object’s initial state or configuration is complex**.\n",
    "\n",
    "Creating multiple instances of a complex object with many attributes can be slow."
   ]
  },
  {
   "cell_type": "markdown",
   "metadata": {},
   "source": [
    "Let's look at problem we might have \n",
    "\n",
    "* *Resource Efficiency*:  When object creation is resource-heavy and costly (for ex. we nned to read the configuration to initialize our object from the large JSON file). This can be resource-intensive, especially if we need to create many units with the same configuration.\n",
    "\n",
    "* *Performance Overhead*: Consider creating an object: what if need to do some complecated operatopms/ calculations to fill its fields? We may have to make an API call for some resources and have to do any other stuff that needs some operations to perform which takes time in that case that would be a bottleneck for the program."
   ]
  },
  {
   "cell_type": "markdown",
   "metadata": {},
   "source": [
    "### Solution"
   ]
  },
  {
   "cell_type": "markdown",
   "metadata": {},
   "source": [
    "The Prototype design pattern is good for when creating new objects requires more resources than you want to use or have available. You can save resources by just creating a copy of any existing object that is already in memory."
   ]
  },
  {
   "cell_type": "markdown",
   "metadata": {},
   "source": [
    "**Benefits**\n",
    "* Improved Performance: Cloning objects can be more performant than creating new instances.\n",
    "* Less Initialization Overhead: Reduces the overhead involved in initialization of new objects.\n",
    "* Flexibility: Easily add or remove prototypes without changing the client code."
   ]
  },
  {
   "cell_type": "markdown",
   "metadata": {},
   "source": [
    "**Prototype UML Diagram**"
   ]
  },
  {
   "attachments": {
    "image.png": {
     "image/png": "[encoded data removed]"
    }
   },
   "cell_type": "markdown",
   "metadata": {},
   "source": [
    "![image.png](attachment:image.png)"
   ]
  },
  {
   "cell_type": "markdown",
   "metadata": {},
   "source": [
    "**Terminology**\n",
    "* *Prototype Interface*: The interface that describes the `clone()` method.\n",
    "* *Prototype*: The Object/Product that implements the Prototype interface.\n",
    "* *Client*: The client application that uses and creates the ProtoType.\n"
   ]
  },
  {
   "cell_type": "markdown",
   "metadata": {},
   "source": [
    "### **Shallow vs. Deep Copy**"
   ]
  },
  {
   "cell_type": "markdown",
   "metadata": {},
   "source": [
    "Cloning involves duplicating the state of an existing object, resulting in a new object with the same properties. \n",
    "\n",
    "The Prototype pattern typically provides two types of cloning: \n",
    "* **shallow** copy \n",
    "* and **deep** copy."
   ]
  },
  {
   "cell_type": "markdown",
   "metadata": {},
   "source": [
    "A shallow copy replicates the top-level structure of an object but does not create copies of its nested objects. \n",
    "\n",
    "In contrast, a deep copy replicates both the top-level structure and all nested objects, creating entirely independent copies.\n",
    "\n",
    "Shallow copying is often faster and more straightforward, but it can lead to shared references within nested objects. \n",
    "```python\n",
    "import copy\n",
    "...\n",
    "copy.copy(self.some_list_of_objects)\n",
    "...\n",
    "```\n",
    "\n",
    "Deep copying, on the other hand, ensures complete independence between the original and cloned objects but can be more complex and resource-intensive.\n",
    "\n",
    "```python\n",
    "import copy\n",
    "...\n",
    "copy.deepcopy(self.some_list_of_objects)\n",
    "...\n",
    "```"
   ]
  },
  {
   "cell_type": "code",
   "execution_count": 1,
   "metadata": {},
   "outputs": [],
   "source": [
    "from abc import ABC, abstractmethod\n",
    "\n",
    "'''\n",
    "Interface with clone method\n",
    "'''\n",
    "\n",
    "class IProtoType(ABC):\n",
    "    \n",
    "    @staticmethod\n",
    "    @abstractmethod\n",
    "    def clone():\n",
    "        \"\"\"The clone, deep or shallow.\n",
    "        It is up to you how you want to implement\n",
    "        the details in your concrete class\"\"\""
   ]
  },
  {
   "cell_type": "code",
   "execution_count": 5,
   "metadata": {},
   "outputs": [],
   "source": [
    "'''\n",
    "A Concrete Class\n",
    "'''\n",
    "class MyClass1(IProtoType):\n",
    "    def __init__(self, field):\n",
    "        self.field = field  \n",
    "\n",
    "    def clone(self):\n",
    "        \" This clone method uses a shallow copy technique \"\n",
    "        return type(self)(self.field)\n",
    "\n",
    "    def __str__(self):\n",
    "        return f\"{id(self)}\\tfield={self.field}\\ttype={type(self.field)}\""
   ]
  },
  {
   "cell_type": "code",
   "execution_count": 3,
   "metadata": {},
   "outputs": [],
   "source": [
    "from copy import deepcopy\n",
    "'''\n",
    "A Concrete Class\n",
    "'''\n",
    "class MyClass2(IProtoType):\n",
    "    def __init__(self, field):\n",
    "        self.field = field  \n",
    "\n",
    "    def clone(self, memo=None): #This clone method uses a deep copy technique\n",
    "        '''\n",
    "        Memo is the dictionary that is used by the `deepcopy` library to prevent infinite recursive copies in\n",
    "        instances of circular references. Pass it to all the `deepcopy` calls  you make in the `__deepcopy__` implementation to prevent infinite\n",
    "        recursions\n",
    "        '''\n",
    "        if memo is None:\n",
    "            memo = {}\n",
    "            \n",
    "        copiedField=deepcopy(self.field)\n",
    "        newSelf=self.__class__(copiedField)\n",
    "        newSelf.__dict__=deepcopy(self.__dict__, memo)\n",
    "        return newSelf\n",
    "\n",
    "    def __str__(self):\n",
    "        return f\"{id(self)}\\tfield={self.field}\\ttype={type(self.field)}\""
   ]
  },
  {
   "cell_type": "code",
   "execution_count": 6,
   "metadata": {},
   "outputs": [
    {
     "name": "stdout",
     "output_type": "stream",
     "text": [
      "obj0: 1896950124224\tfield=[1, 2, 3]\ttype=<class 'list'>\n"
     ]
    }
   ],
   "source": [
    "obj0=MyClass1([1,2,3])\n",
    "print(f\"obj0: {obj0}\")"
   ]
  },
  {
   "cell_type": "code",
   "execution_count": 8,
   "metadata": {},
   "outputs": [
    {
     "name": "stdout",
     "output_type": "stream",
     "text": [
      "obj1: 1896949487632\tfield=[1, 2, 3]\ttype=<class 'list'>\n"
     ]
    }
   ],
   "source": [
    "obj1=obj0.clone()\n",
    "print(f\"obj1: {obj1}\")"
   ]
  },
  {
   "cell_type": "code",
   "execution_count": 9,
   "metadata": {},
   "outputs": [
    {
     "name": "stdout",
     "output_type": "stream",
     "text": [
      "obj0: 1896950124224\tfield=[100, 2, 3]\ttype=<class 'list'>\n",
      "obj1: 1896949487632\tfield=[100, 2, 3]\ttype=<class 'list'>\n"
     ]
    }
   ],
   "source": [
    "obj1.field[0]=100\n",
    "print(f\"obj0: {obj0}\")\n",
    "print(f\"obj1: {obj1}\")"
   ]
  },
  {
   "cell_type": "code",
   "execution_count": 10,
   "metadata": {},
   "outputs": [
    {
     "name": "stdout",
     "output_type": "stream",
     "text": [
      "obj00: 1896949487952\tfield=Hanna\ttype=<class 'str'>\n",
      "obj10: 1896949488592\tfield=Hanna\ttype=<class 'str'>\n",
      "obj00: 1896949487952\tfield=Hanna\ttype=<class 'str'>\n",
      "obj10: 1896949488592\tfield=Instructor\ttype=<class 'str'>\n"
     ]
    }
   ],
   "source": [
    "obj00=MyClass1(\"Hanna\")\n",
    "print(f\"obj00: {obj00}\")\n",
    "\n",
    "obj10=obj00.clone()\n",
    "print(f\"obj10: {obj10}\")\n",
    "\n",
    "obj10.field=\"Instructor\"\n",
    "\n",
    "print(f\"obj00: {obj00}\")\n",
    "print(f\"obj10: {obj10}\")\n"
   ]
  },
  {
   "cell_type": "code",
   "execution_count": 11,
   "metadata": {},
   "outputs": [
    {
     "name": "stdout",
     "output_type": "stream",
     "text": [
      "obj000: 1896950124896\tfield=['a', 1, False]\ttype=<class 'list'>\n",
      "obj100: 1896949489872\tfield=['a', 1, False]\ttype=<class 'list'>\n",
      "obj000: 1896950124896\tfield=['a', 1, False]\ttype=<class 'list'>\n",
      "obj100: 1896949489872\tfield=['a', 1, True]\ttype=<class 'list'>\n"
     ]
    }
   ],
   "source": [
    "obj000=MyClass2(['a',1, False])\n",
    "print(f\"obj000: {obj000}\")\n",
    "\n",
    "obj100=obj000.clone()\n",
    "print(f\"obj100: {obj100}\")\n",
    "\n",
    "obj100.field[-1]=True\n",
    "\n",
    "print(f\"obj000: {obj000}\")\n",
    "print(f\"obj100: {obj100}\")"
   ]
  },
  {
   "cell_type": "markdown",
   "metadata": {},
   "source": [
    "### Prototype Registry"
   ]
  },
  {
   "cell_type": "markdown",
   "metadata": {},
   "source": [
    "The Prototype Registry acts as a centralized repository for frequently-used prototypes, simplifying their storage and retrieval. "
   ]
  },
  {
   "cell_type": "code",
   "execution_count": 16,
   "metadata": {},
   "outputs": [],
   "source": [
    "class PrototypeRegistry:\n",
    "    # Cache to store objects/prototypes\n",
    "    prototypes = {}\n",
    "    \n",
    "    @staticmethod\n",
    "    def add_prototype(name, prototype):\n",
    "        PrototypeRegistry.prototypes[name] = prototype\n",
    "    \n",
    "    @staticmethod\n",
    "    def get_prototype( name):\n",
    "        if name in PrototypeRegistry.prototypes:\n",
    "            return PrototypeRegistry.prototypes[name].clone()\n",
    "        else:\n",
    "            raise ValueError(f\"Prototype '{name}' not found.\")\n",
    "        \n",
    "    @staticmethod\n",
    "    def initialize():\n",
    "        #load MyClass1\n",
    "        my1=MyClass1(1)\n",
    "        PrototypeRegistry.prototypes.setdefault(MyClass1.__name__, my1)        \n",
    "        '''OR\n",
    "        PrototypeRegistry.add_prototype(MyClass1.__name__, my1)\n",
    "        '''\n",
    "        \n",
    "        #load MyClass2\n",
    "        my2=MyClass2(1)\n",
    "        PrototypeRegistry.prototypes.setdefault(MyClass2.__name__, my1)\n",
    "        \n",
    "        \n",
    "        \n",
    "        "
   ]
  },
  {
   "cell_type": "code",
   "execution_count": 17,
   "metadata": {},
   "outputs": [],
   "source": [
    "PrototypeRegistry.initialize()"
   ]
  },
  {
   "cell_type": "code",
   "execution_count": 15,
   "metadata": {},
   "outputs": [
    {
     "name": "stdout",
     "output_type": "stream",
     "text": [
      "obj000: 1896949496272\tfield=1\ttype=<class 'int'>\n",
      "obj001: 1896949494672\tfield=1\ttype=<class 'int'>\n",
      "obj002: 1896949494992\tfield=1\ttype=<class 'int'>\n",
      "obj003: 1896949495632\tfield=Hanna\ttype=<class 'str'>\n",
      "obj002: 1896949494992\tfield=1\ttype=<class 'int'>\n",
      "obj003: 1896949495632\tfield=Hanna\ttype=<class 'str'>\n",
      "obj004: 1896949495952\tfield=[1, 2, 3]\ttype=<class 'list'>\n"
     ]
    }
   ],
   "source": [
    "obj000=PrototypeRegistry.get_prototype('MyClass2')\n",
    "obj001=PrototypeRegistry.get_prototype('MyClass2')\n",
    "print(f\"obj000: {obj000}\")\n",
    "print(f\"obj001: {obj001}\")\n",
    "\n",
    "obj002=PrototypeRegistry.get_prototype('MyClass1')\n",
    "obj003=PrototypeRegistry.get_prototype('MyClass1')\n",
    "obj003.field=\"Hanna\"\n",
    "print(f\"obj002: {obj002}\")\n",
    "print(f\"obj003: {obj003}\")\n",
    "\n",
    "obj004=PrototypeRegistry.get_prototype('MyClass1')\n",
    "obj004.field=[1,2,3]\n",
    "print(f\"obj002: {obj002}\")\n",
    "print(f\"obj003: {obj003}\")\n",
    "print(f\"obj004: {obj004}\")"
   ]
  },
  {
   "cell_type": "code",
   "execution_count": 18,
   "metadata": {},
   "outputs": [],
   "source": [
    "PrototypeRegistry.add_prototype('MyClass1_1', MyClass1([100,200]))"
   ]
  },
  {
   "cell_type": "code",
   "execution_count": null,
   "metadata": {},
   "outputs": [
    {
     "name": "stdout",
     "output_type": "stream",
     "text": [
      "obj005: 1896956445072\tfield=[300, 200]\ttype=<class 'list'>\n",
      "obj006: 1896956445712\tfield=[300, 200]\ttype=<class 'list'>\n"
     ]
    }
   ],
   "source": [
    "obj005=PrototypeRegistry.get_prototype('MyClass1_1')\n",
    "obj005.field[0]=300 #!!!! PROBLEM\n",
    "obj006=PrototypeRegistry.get_prototype('MyClass1_1')\n",
    "print(f\"obj005: {obj005}\")\n",
    "print(f\"obj006: {obj006}\")"
   ]
  }
 ],
 "metadata": {
  "kernelspec": {
   "display_name": ".venv",
   "language": "python",
   "name": "python3"
  },
  "language_info": {
   "codemirror_mode": {
    "name": "ipython",
    "version": 3
   },
   "file_extension": ".py",
   "mimetype": "text/x-python",
   "name": "python",
   "nbconvert_exporter": "python",
   "pygments_lexer": "ipython3",
   "version": "3.13.0"
  }
 },
 "nbformat": 4,
 "nbformat_minor": 2
}
