{
 "cells": [
  {
   "cell_type": "markdown",
   "metadata": {},
   "source": [
    "**Python Namespace and Scope**"
   ]
  },
  {
   "cell_type": "markdown",
   "metadata": {},
   "source": [
    "Python namespaces - the structures used to organize the symbolic names assigned to objects in a Python program.\n",
    "\n",
    "\n",
    "Virtually everything that your Python program creates or acts on is an object.\n",
    "\n",
    "Any assignment statement creates a symbolic name that you can use to reference an object.\n",
    "\n",
    "A namespace is a collection of currently defined symbolic names along with information about the object that each name references.\n",
    "\n",
    "A namespace allows us to use the same name for different variables or objects in different parts of your code, without causing any conflicts or confusion.\n",
    "\n",
    "In a Python program, there are 4 types of namespaces:\n",
    "\n",
    "* Built-In\n",
    "* Global\n",
    "* Enclosing\n",
    "* Local\n",
    "\n",
    "As Python executes a program, it creates namespaces as necessary and deletes them when they’re no longer needed -- > differing lifetimes."
   ]
  },
  {
   "cell_type": "markdown",
   "metadata": {},
   "source": [
    "The **built-in namespace** contains the names of all of Python’s built-in objects. A namespace is created when we start the Python interprete. These are available at all times when Python is running. "
   ]
  },
  {
   "cell_type": "code",
   "execution_count": 8,
   "metadata": {},
   "outputs": [
    {
     "data": {
      "text/plain": [
       "['ArithmeticError',\n",
       " 'AssertionError',\n",
       " 'AttributeError',\n",
       " 'BaseException',\n",
       " 'BaseExceptionGroup',\n",
       " 'BlockingIOError',\n",
       " 'BrokenPipeError',\n",
       " 'BufferError',\n",
       " 'BytesWarning',\n",
       " 'ChildProcessError']"
      ]
     },
     "execution_count": 8,
     "metadata": {},
     "output_type": "execute_result"
    }
   ],
   "source": [
    "dir(__builtins__)[:10]"
   ]
  },
  {
   "cell_type": "markdown",
   "metadata": {},
   "source": [
    "The **global namespace** contains any names defined at the level of the main program. Python creates the global namespace when the main program body starts, and it remains in existence until the interpreter terminates.\n",
    "The interpreter also creates a *global namespace for any module* that your program loads with the *import* statement"
   ]
  },
  {
   "cell_type": "markdown",
   "metadata": {},
   "source": [
    "The interpreter creates a new namespace whenever a function executes. That namespace is **local** to the function and remains in existence until the function terminates.\n",
    "\n",
    "You can also define one function inside another.\n",
    "\n",
    "The namespace created for the nested function is the **local namespace**, and the namespace created for the outer functionis the **enclosing namespace**."
   ]
  },
  {
   "cell_type": "code",
   "execution_count": 10,
   "metadata": {},
   "outputs": [
    {
     "name": "stdout",
     "output_type": "stream",
     "text": [
      "I am within the enclosing namespace.\n",
      "I am within the local namespace.\n",
      "I am within the enclosing namespace again.\n"
     ]
    }
   ],
   "source": [
    "def outerF():\n",
    "    print(\"I am within the enclosing namespace.\")\n",
    "    \n",
    "    def nestedF():\n",
    "        print(\"I am within the local namespace.\")\n",
    "        \n",
    "    nestedF()\n",
    "    print(\"I am within the enclosing namespace again.\")\n",
    "    \n",
    "outerF()"
   ]
  }
 ],
 "metadata": {
  "kernelspec": {
   "display_name": ".venv",
   "language": "python",
   "name": "python3"
  },
  "language_info": {
   "codemirror_mode": {
    "name": "ipython",
    "version": 3
   },
   "file_extension": ".py",
   "mimetype": "text/x-python",
   "name": "python",
   "nbconvert_exporter": "python",
   "pygments_lexer": "ipython3",
   "version": "3.13.0"
  }
 },
 "nbformat": 4,
 "nbformat_minor": 2
}
