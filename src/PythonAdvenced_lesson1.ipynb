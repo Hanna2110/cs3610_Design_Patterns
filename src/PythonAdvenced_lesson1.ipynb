{
 "cells": [
  {
   "cell_type": "markdown",
   "metadata": {},
   "source": [
    "**Python Namespace and Scope**"
   ]
  },
  {
   "cell_type": "markdown",
   "metadata": {},
   "source": [
    "Python namespaces - the structures used to organize the symbolic names assigned to objects in a Python program.\n",
    "\n",
    "\n",
    "Virtually everything that your Python program creates or acts on is an object.\n",
    "\n",
    "Any assignment statement creates a symbolic name that you can use to reference an object.\n",
    "\n",
    "A namespace is a collection of currently defined symbolic names along with information about the object that each name references.\n",
    "\n",
    "A namespace allows us to use the same name for different variables or objects in different parts of your code, without causing any conflicts or confusion.\n",
    "\n",
    "In a Python program, there are 4 types of namespaces:\n",
    "\n",
    "* Built-In\n",
    "* Global\n",
    "* Enclosing\n",
    "* Local\n",
    "\n",
    "As Python executes a program, it creates namespaces as necessary and deletes them when they’re no longer needed -- > differing lifetimes."
   ]
  },
  {
   "cell_type": "markdown",
   "metadata": {},
   "source": [
    "The **built-in namespace** contains the names of all of Python’s built-in objects. A namespace is created when we start the Python interprete. These are available at all times when Python is running. "
   ]
  },
  {
   "cell_type": "code",
   "execution_count": 38,
   "metadata": {},
   "outputs": [
    {
     "data": {
      "text/plain": [
       "['ArithmeticError',\n",
       " 'AssertionError',\n",
       " 'AttributeError',\n",
       " 'BaseException',\n",
       " 'BaseExceptionGroup',\n",
       " 'BlockingIOError',\n",
       " 'BrokenPipeError',\n",
       " 'BufferError',\n",
       " 'BytesWarning',\n",
       " 'ChildProcessError']"
      ]
     },
     "execution_count": 38,
     "metadata": {},
     "output_type": "execute_result"
    }
   ],
   "source": [
    "dir(__builtins__)[:10]"
   ]
  },
  {
   "cell_type": "markdown",
   "metadata": {},
   "source": [
    "The **global namespace** contains any names defined at the level of the main program. Python creates the global namespace when the main program body starts, and it remains in existence until the interpreter terminates.\n",
    "The interpreter also creates a *global namespace for any module* that your program loads with the *import* statement"
   ]
  },
  {
   "cell_type": "markdown",
   "metadata": {},
   "source": [
    "The interpreter creates a new namespace whenever a function executes. That namespace is **local** to the function and remains in existence until the function terminates.\n",
    "\n",
    "You can also define one function inside another.\n",
    "\n",
    "The namespace created for the nested function is the **local namespace**, and the namespace created for the outer functionis the **enclosing namespace**."
   ]
  },
  {
   "cell_type": "code",
   "execution_count": 39,
   "metadata": {},
   "outputs": [
    {
     "name": "stdout",
     "output_type": "stream",
     "text": [
      "I am within the enclosing namespace.\n",
      "I am within the local namespace.\n",
      "I am within the enclosing namespace again.\n"
     ]
    }
   ],
   "source": [
    "def outerF():\n",
    "    print(\"I am within the enclosing namespace.\")\n",
    "    \n",
    "    def nestedF():\n",
    "        print(\"I am within the local namespace.\")\n",
    "        \n",
    "    nestedF()\n",
    "    print(\"I am within the enclosing namespace again.\")\n",
    "    \n",
    "outerF()"
   ]
  },
  {
   "cell_type": "markdown",
   "metadata": {},
   "source": [
    "Suppose you refer to the name x in your code, and x exists in several namespaces. How does Python know which one you mean? -->by using the concept of scope. \n",
    "\n",
    "The **scope** of a name is the region of a program in which that name has meaning (where we can access a variable). The interpreter determines this at runtime based on where the name definition occurs and where in the code the name is referenced.\n",
    "\n",
    "The interpreter searches for a name from the inside out, looking in the local, enclosing, global, and finally the built-in scope --> the *LEGB* rule "
   ]
  },
  {
   "cell_type": "code",
   "execution_count": 40,
   "metadata": {},
   "outputs": [
    {
     "name": "stdout",
     "output_type": "stream",
     "text": [
      "I belong to the local scope\n"
     ]
    }
   ],
   "source": [
    "myVar=\"I belong to the global scope\"\n",
    "\n",
    "def outerF():\n",
    "    myVar=\"I belong to the enclosing scope\"\n",
    "    \n",
    "    def nestedF():\n",
    "        myVar=\"I belong to the local scope\"\n",
    "        print(myVar)\n",
    "        \n",
    "    nestedF()\n",
    "    \n",
    "    \n",
    "outerF()"
   ]
  },
  {
   "cell_type": "code",
   "execution_count": 41,
   "metadata": {},
   "outputs": [
    {
     "name": "stdout",
     "output_type": "stream",
     "text": [
      "I belong to the global scope\n"
     ]
    }
   ],
   "source": [
    "myVar=\"I belong to the global scope\"\n",
    "\n",
    "def outerF():\n",
    "    #myVar=\"I belong to the enclosing scope\"\n",
    "    \n",
    "    def nestedF():\n",
    "        #myVar=\"I belong to the local scope\"\n",
    "        print(myVar)\n",
    "        \n",
    "    nestedF()\n",
    "    \n",
    "    \n",
    "outerF()"
   ]
  },
  {
   "cell_type": "code",
   "execution_count": 42,
   "metadata": {},
   "outputs": [
    {
     "name": "stdout",
     "output_type": "stream",
     "text": [
      "I belong to the enclosing scope\n"
     ]
    }
   ],
   "source": [
    "myVar=\"I belong to the global scope\"\n",
    "\n",
    "def outerF():\n",
    "    myVar=\"I belong to the enclosing scope\"\n",
    "    \n",
    "    def nestedF():\n",
    "        #myVar=\"I belong to the local scope\"\n",
    "        print(myVar)\n",
    "        \n",
    "    nestedF()\n",
    "    \n",
    "    \n",
    "outerF()"
   ]
  },
  {
   "cell_type": "code",
   "execution_count": 43,
   "metadata": {},
   "outputs": [
    {
     "name": "stdout",
     "output_type": "stream",
     "text": [
      "I belong to the global scope\n",
      "I still belong to the global scope\n",
      "I still belong to the global scope\n"
     ]
    }
   ],
   "source": [
    "myVar=\"I belong to the global scope\"\n",
    "print(myVar)\n",
    "\n",
    "\n",
    "def outerF():\n",
    "    global myVar\n",
    "    myVar=\"I still belong to the global scope\"\n",
    "    \n",
    "    def nestedF():\n",
    "        #myVar=\"I belong to the local scope\"\n",
    "        print(myVar)\n",
    "        \n",
    "    nestedF()\n",
    "    \n",
    "    \n",
    "outerF()\n",
    "print(myVar)"
   ]
  },
  {
   "cell_type": "markdown",
   "metadata": {},
   "source": [
    "But.. how to get access to the global variable to change its value within the function?\n",
    "--> the **global** keyword is used \n",
    "Without it a function can’t modify an immutable object outside its local scope at all"
   ]
  },
  {
   "cell_type": "code",
   "execution_count": 44,
   "metadata": {},
   "outputs": [
    {
     "name": "stdout",
     "output_type": "stream",
     "text": [
      "I belong to the global scope\n",
      "I belong to the enclosing scope\n",
      "I still belong to the enclosing scope\n",
      "I belong to the global scope\n"
     ]
    }
   ],
   "source": [
    "myVar=\"I belong to the global scope\"\n",
    "print(myVar)\n",
    "\n",
    "\n",
    "def outerF():\n",
    "    myVar=\"I belong to the enclosing scope\"\n",
    "    print(myVar)    \n",
    "    \n",
    "    def nestedF():\n",
    "        nonlocal myVar\n",
    "        myVar=\"I still belong to the enclosing scope\"\n",
    "        print(myVar)\n",
    "        \n",
    "    nestedF()\n",
    "    \n",
    "    \n",
    "outerF()\n",
    "print(myVar)"
   ]
  },
  {
   "cell_type": "markdown",
   "metadata": {},
   "source": [
    "But.. how to indicate that a *variable is not local* to the inner function, but rather belongs to an enclosing function’s scope. --> the **nonlocal** keyword is used within nested functions "
   ]
  },
  {
   "cell_type": "markdown",
   "metadata": {},
   "source": [
    "A function can modify an object of mutable type that’s outside its local scope if it modifies the object in place"
   ]
  },
  {
   "cell_type": "code",
   "execution_count": 45,
   "metadata": {},
   "outputs": [
    {
     "name": "stdout",
     "output_type": "stream",
     "text": [
      "[0, 2, 3]\n"
     ]
    }
   ],
   "source": [
    "myList=[1,2,3]\n",
    "\n",
    "def myF():\n",
    "    myList[0]=0\n",
    "    \n",
    "myF()\n",
    "print(myList)"
   ]
  },
  {
   "cell_type": "markdown",
   "metadata": {},
   "source": [
    "But if myF() tries to reassign myList entirely, then it will create a new local object and won’t modify the global myList:"
   ]
  },
  {
   "cell_type": "code",
   "execution_count": 46,
   "metadata": {},
   "outputs": [
    {
     "name": "stdout",
     "output_type": "stream",
     "text": [
      "[1, 2, 3]\n"
     ]
    }
   ],
   "source": [
    "myList=[1,2,3]\n",
    "\n",
    "def myF():\n",
    "    myList=[0,-1]\n",
    "    \n",
    "myF()\n",
    "print(myList)"
   ]
  },
  {
   "cell_type": "markdown",
   "metadata": {},
   "source": [
    "* globals()* returns a reference to the global namespace dictionary"
   ]
  },
  {
   "cell_type": "code",
   "execution_count": 58,
   "metadata": {},
   "outputs": [
    {
     "name": "stdout",
     "output_type": "stream",
     "text": [
      "New value\n",
      "True\n",
      "New value\n"
     ]
    }
   ],
   "source": [
    "myVar='Hanna'\n",
    "\n",
    "def myF():\n",
    "    globals()['myVar']='New value'\n",
    "    print(myVar)\n",
    "    print( myVar is globals()['myVar'])\n",
    "    \n",
    "myF()\n",
    "print(myVar)"
   ]
  },
  {
   "cell_type": "markdown",
   "metadata": {},
   "source": [
    "Python also provides a corresponding built-in function called *locals()*. It’s similar to globals() but accesses objects in the local namespace instead"
   ]
  },
  {
   "cell_type": "code",
   "execution_count": 60,
   "metadata": {},
   "outputs": [
    {
     "name": "stdout",
     "output_type": "stream",
     "text": [
      "Hanna\n",
      "Yehoshyna\n",
      "{'myVar': 'Yehoshyna', 'myVar3': 'CS Instructor'}\n"
     ]
    }
   ],
   "source": [
    "myVar1='Hanna'\n",
    "myVar2='Yehoshyna'\n",
    "\n",
    "def myF(myVar):\n",
    "    print(myVar1)\n",
    "    print(myVar)\n",
    "    myVar3=\"CS Instructor\"\n",
    "    \n",
    "    print(locals())\n",
    "    \n",
    "myF(myVar2)\n"
   ]
  },
  {
   "cell_type": "markdown",
   "metadata": {},
   "source": [
    "If the name specified in the global declaration doesn’t exist in the global scope when the function starts, then a combination of the global statement and an assignment will create it"
   ]
  },
  {
   "cell_type": "code",
   "execution_count": 62,
   "metadata": {},
   "outputs": [
    {
     "name": "stdout",
     "output_type": "stream",
     "text": [
      "Hanna\n"
     ]
    }
   ],
   "source": [
    "def myF():\n",
    "    global myVar\n",
    "    myVar=\"Hanna\"\n",
    "\n",
    "\n",
    "myF()\n",
    "print(myVar)"
   ]
  }
 ],
 "metadata": {
  "kernelspec": {
   "display_name": ".venv",
   "language": "python",
   "name": "python3"
  },
  "language_info": {
   "codemirror_mode": {
    "name": "ipython",
    "version": 3
   },
   "file_extension": ".py",
   "mimetype": "text/x-python",
   "name": "python",
   "nbconvert_exporter": "python",
   "pygments_lexer": "ipython3",
   "version": "3.13.0"
  }
 },
 "nbformat": 4,
 "nbformat_minor": 2
}
