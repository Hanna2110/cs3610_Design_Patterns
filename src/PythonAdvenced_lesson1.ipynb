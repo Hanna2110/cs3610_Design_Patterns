{
 "cells": [
  {
   "cell_type": "markdown",
   "metadata": {},
   "source": [
    "**Python Namespace and Scope**"
   ]
  },
  {
   "cell_type": "markdown",
   "metadata": {},
   "source": [
    "Python namespaces - the structures used to organize the symbolic names assigned to objects in a Python program.\n",
    "\n",
    "\n",
    "Virtually everything that your Python program creates or acts on is an object.\n",
    "\n",
    "Any assignment statement creates a symbolic name that you can use to reference an object.\n",
    "\n",
    "A namespace is a collection of currently defined symbolic names along with information about the object that each name references.\n",
    "\n",
    "A namespace allows us to use the same name for different variables or objects in different parts of your code, without causing any conflicts or confusion.\n",
    "\n",
    "In a Python program, there are 4 types of namespaces:\n",
    "\n",
    "* Built-In\n",
    "* Global\n",
    "* Enclosing\n",
    "* Local\n",
    "\n",
    "As Python executes a program, it creates namespaces as necessary and deletes them when they’re no longer needed -- > differing lifetimes."
   ]
  },
  {
   "cell_type": "markdown",
   "metadata": {},
   "source": []
  }
 ],
 "metadata": {
  "language_info": {
   "name": "python"
  }
 },
 "nbformat": 4,
 "nbformat_minor": 2
}
