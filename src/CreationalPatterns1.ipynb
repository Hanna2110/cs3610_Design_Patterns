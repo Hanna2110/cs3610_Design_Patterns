{
 "cells": [
  {
   "cell_type": "markdown",
   "metadata": {},
   "source": [
    "Let us develop a strategy game called the Punic Wars, which describes the great military confrontation between the Roman Republic and Carthage (264 - 146 BC).​\n",
    "\n",
    "The characters in the game can be 3 types of warriors: ​\n",
    "* infantry, ​\n",
    "* cavalry ​\n",
    "* andarchers.​\n",
    "\n",
    "Each of these types has its own `distinctive characteristics`: appearance, combat power, speed of movement and degree of protection.​"
   ]
  },
  {
   "cell_type": "markdown",
   "metadata": {},
   "source": [
    "Despite such differences, all types of combat units have common features:​\n",
    "* they can all move around the playing field in different directions, although the horsemen do it the fastest. ​\n",
    "* each combat unit has its own health level, and if it becomes zero, the warrior dies. ​"
   ]
  },
  {
   "cell_type": "markdown",
   "metadata": {},
   "source": [
    "In the future, if the game is successful, we will develop it further.​\n",
    "\n",
    "For example, we could ​\n",
    "* add new types of warriors, such as war elephants, ​\n",
    "* or improve existing ones by dividing the infantry into lightly armed and heavily armed infantry.​\n",
    "\n",
    "​To make such **changes without modifying existing code**, we must now try to **make the game as independent as possible from specific character types**.​"
   ]
  },
  {
   "cell_type": "markdown",
   "metadata": {},
   "source": [
    "It would seem that for this it is enough to use the following class hierarchy.​"
   ]
  },
  {
   "cell_type": "code",
   "execution_count": 2,
   "metadata": {},
   "outputs": [],
   "source": [
    "from abc import ABC, abstractmethod"
   ]
  },
  {
   "cell_type": "code",
   "execution_count": 4,
   "metadata": {},
   "outputs": [],
   "source": [
    "class Warrior(ABC):\n",
    "           \n",
    "    @abstractmethod\n",
    "    def info(self):\n",
    "        pass"
   ]
  },
  {
   "cell_type": "code",
   "execution_count": 5,
   "metadata": {},
   "outputs": [],
   "source": [
    "class InfantryMan (Warrior):\n",
    "    def info(self):\n",
    "        print(\"InfantryMan\")"
   ]
  },
  {
   "cell_type": "code",
   "execution_count": 6,
   "metadata": {},
   "outputs": [],
   "source": [
    "class Archer (Warrior):\n",
    "    def info(self):\n",
    "        print(\"Archer\")"
   ]
  },
  {
   "cell_type": "code",
   "execution_count": 7,
   "metadata": {},
   "outputs": [],
   "source": [
    "class HorseMan (Warrior):\n",
    "    def info(self):\n",
    "        print(\"HorseMan\")"
   ]
  },
  {
   "cell_type": "markdown",
   "metadata": {},
   "source": [
    "The difficulty lies in the fact that although the system code operates with ready-made objects through the corresponding general interfaces, **during the game it is required to create new characters**, directly indicating their specific types​\n",
    "\n",
    "\n",
    "If the code for creating them is dispersed throughout the application, then adding new types of characters or replacing existing ones will be difficult.​"
   ]
  },
  {
   "cell_type": "markdown",
   "metadata": {},
   "source": [
    "In such cases, an *object factory* comes to the rescue by localizing the creation of objects.​"
   ]
  },
  {
   "cell_type": "code",
   "execution_count": 8,
   "metadata": {},
   "outputs": [],
   "source": [
    "Warrior_IDs=[1,2,3]"
   ]
  },
  {
   "cell_type": "markdown",
   "metadata": {},
   "source": [
    "The following example demonstrates the simplest version of an object factory - a **factory function**.​"
   ]
  },
  {
   "cell_type": "code",
   "execution_count": 9,
   "metadata": {},
   "outputs": [],
   "source": [
    "def createWarrior(wID):\n",
    "    if wID==1:\n",
    "        return InfantryMan()\n",
    "    elif wID==2:\n",
    "        return Archer()\n",
    "    elif wID==3:\n",
    "        return HorseMan()"
   ]
  },
  {
   "cell_type": "code",
   "execution_count": 10,
   "metadata": {},
   "outputs": [
    {
     "name": "stdout",
     "output_type": "stream",
     "text": [
      "HorseMan\n"
     ]
    }
   ],
   "source": [
    "myWarrior1=createWarrior(3)\n",
    "myWarrior1.info()"
   ]
  },
  {
   "cell_type": "markdown",
   "metadata": {},
   "source": [
    "Despite the obvious advantages, this factory option also has disadvantages. ​\n",
    "\n",
    "For example, to add a new type of combat unit, you need to take several steps:​\n",
    "* create a new type identifier ​\n",
    "* and modify the code of the *createWarrior()* factory function.​"
   ]
  }
 ],
 "metadata": {
  "kernelspec": {
   "display_name": ".venv",
   "language": "python",
   "name": "python3"
  },
  "language_info": {
   "codemirror_mode": {
    "name": "ipython",
    "version": 3
   },
   "file_extension": ".py",
   "mimetype": "text/x-python",
   "name": "python",
   "nbconvert_exporter": "python",
   "pygments_lexer": "ipython3",
   "version": "3.13.0"
  }
 },
 "nbformat": 4,
 "nbformat_minor": 2
}
