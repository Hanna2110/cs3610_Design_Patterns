{
 "cells": [
  {
   "cell_type": "markdown",
   "metadata": {},
   "source": [
    "# An Introduction To Scripting in Python 3"
   ]
  },
  {
   "cell_type": "markdown",
   "metadata": {},
   "source": [
    "https://github.com/jvdkwast/Python3_Jupyter_Notebook/blob/7fa1d238d56b8baa6f19a90a37c273f8699c2bad/PythonIntro.ipynb"
   ]
  },
  {
   "cell_type": "markdown",
   "metadata": {},
   "source": [
    "# **Python Namespace and Scope**"
   ]
  },
  {
   "cell_type": "markdown",
   "metadata": {},
   "source": [
    "Python namespaces - the structures used to organize the symbolic names assigned to objects in a Python program.\n",
    "\n",
    "\n",
    "Virtually everything that your Python program creates or acts on is an object.\n",
    "\n",
    "Any assignment statement creates a symbolic name that you can use to reference an object.\n",
    "\n",
    "A namespace is a collection of currently defined symbolic names along with information about the object that each name references.\n",
    "\n",
    "A namespace allows us to use the same name for different variables or objects in different parts of your code, without causing any conflicts or confusion.\n",
    "\n",
    "In a Python program, there are 4 types of namespaces:\n",
    "\n",
    "* Built-In\n",
    "* Global\n",
    "* Enclosing\n",
    "* Local\n",
    "\n",
    "As Python executes a program, it creates namespaces as necessary and deletes them when they’re no longer needed -- > differing lifetimes."
   ]
  },
  {
   "cell_type": "markdown",
   "metadata": {},
   "source": [
    "### The **built-in namespace**"
   ]
  },
  {
   "cell_type": "markdown",
   "metadata": {},
   "source": [
    "The **built-in namespace** contains the names of all of Python’s built-in objects. A namespace is created when we start the Python interprete. These are available at all times when Python is running. "
   ]
  },
  {
   "cell_type": "code",
   "execution_count": 4,
   "metadata": {},
   "outputs": [
    {
     "data": {
      "text/plain": [
       "['ArithmeticError',\n",
       " 'AssertionError',\n",
       " 'AttributeError',\n",
       " 'BaseException',\n",
       " 'BaseExceptionGroup',\n",
       " 'BlockingIOError',\n",
       " 'BrokenPipeError',\n",
       " 'BufferError',\n",
       " 'BytesWarning',\n",
       " 'ChildProcessError']"
      ]
     },
     "execution_count": 4,
     "metadata": {},
     "output_type": "execute_result"
    }
   ],
   "source": [
    "dir(__builtins__)[:10]"
   ]
  },
  {
   "cell_type": "markdown",
   "metadata": {},
   "source": [
    "### The **global namespace** "
   ]
  },
  {
   "cell_type": "markdown",
   "metadata": {},
   "source": [
    "The **global namespace** contains any names defined at the level of the main program. Python creates the global namespace when the main program body starts, and it remains in existence until the interpreter terminates.\n",
    "The interpreter also creates a *global namespace for any module* that your program loads with the *import* statement"
   ]
  },
  {
   "cell_type": "markdown",
   "metadata": {},
   "source": [
    "### The **local namespace** & the **enclosing namespace**."
   ]
  },
  {
   "cell_type": "markdown",
   "metadata": {},
   "source": [
    "The interpreter creates a new namespace whenever a function executes. That namespace is **local** to the function and remains in existence until the function terminates.\n",
    "\n",
    "You can also define one function inside another.\n",
    "\n",
    "The namespace created for the nested function is the **local namespace**, and the namespace created for the outer functionis the **enclosing namespace**."
   ]
  },
  {
   "cell_type": "code",
   "execution_count": 5,
   "metadata": {},
   "outputs": [
    {
     "name": "stdout",
     "output_type": "stream",
     "text": [
      "I am within the enclosing namespace.\n",
      "I am within the local namespace.\n",
      "I am within the enclosing namespace again.\n"
     ]
    }
   ],
   "source": [
    "def outerF():\n",
    "    print(\"I am within the enclosing namespace.\")\n",
    "    \n",
    "    def nestedF():\n",
    "        print(\"I am within the local namespace.\")\n",
    "        \n",
    "    nestedF()\n",
    "    print(\"I am within the enclosing namespace again.\")\n",
    "    \n",
    "outerF()"
   ]
  },
  {
   "cell_type": "markdown",
   "metadata": {},
   "source": [
    "Suppose you refer to the name x in your code, and x exists in several namespaces. How does Python know which one you mean? -->by using the concept of scope. \n",
    "\n",
    "The **scope** of a name is the region of a program in which that name has meaning (where we can access a variable). The interpreter determines this at runtime based on where the name definition occurs and where in the code the name is referenced.\n",
    "\n",
    "The interpreter searches for a name from the inside out, looking in the local, enclosing, global, and finally the built-in scope --> the *LEGB* rule "
   ]
  },
  {
   "cell_type": "code",
   "execution_count": 6,
   "metadata": {},
   "outputs": [
    {
     "name": "stdout",
     "output_type": "stream",
     "text": [
      "I belong to the local scope\n"
     ]
    }
   ],
   "source": [
    "myVar=\"I belong to the global scope\"\n",
    "\n",
    "def outerF():\n",
    "    myVar=\"I belong to the enclosing scope\"\n",
    "    \n",
    "    def nestedF():\n",
    "        myVar=\"I belong to the local scope\"\n",
    "        print(myVar)\n",
    "        \n",
    "    nestedF()\n",
    "    \n",
    "    \n",
    "outerF()"
   ]
  },
  {
   "cell_type": "code",
   "execution_count": 7,
   "metadata": {},
   "outputs": [
    {
     "name": "stdout",
     "output_type": "stream",
     "text": [
      "I belong to the global scope\n"
     ]
    }
   ],
   "source": [
    "myVar=\"I belong to the global scope\"\n",
    "\n",
    "def outerF():\n",
    "    #myVar=\"I belong to the enclosing scope\"\n",
    "    \n",
    "    def nestedF():\n",
    "        #myVar=\"I belong to the local scope\"\n",
    "        print(myVar)\n",
    "        \n",
    "    nestedF()\n",
    "    \n",
    "    \n",
    "outerF()"
   ]
  },
  {
   "cell_type": "code",
   "execution_count": 8,
   "metadata": {},
   "outputs": [
    {
     "name": "stdout",
     "output_type": "stream",
     "text": [
      "I belong to the enclosing scope\n"
     ]
    }
   ],
   "source": [
    "myVar=\"I belong to the global scope\"\n",
    "\n",
    "def outerF():\n",
    "    myVar=\"I belong to the enclosing scope\"\n",
    "    \n",
    "    def nestedF():\n",
    "        #myVar=\"I belong to the local scope\"\n",
    "        print(myVar)\n",
    "        \n",
    "    nestedF()\n",
    "    \n",
    "    \n",
    "outerF()"
   ]
  },
  {
   "cell_type": "code",
   "execution_count": 9,
   "metadata": {},
   "outputs": [
    {
     "name": "stdout",
     "output_type": "stream",
     "text": [
      "I belong to the global scope\n",
      "I still belong to the global scope\n",
      "I still belong to the global scope\n"
     ]
    }
   ],
   "source": [
    "myVar=\"I belong to the global scope\"\n",
    "print(myVar)\n",
    "\n",
    "\n",
    "def outerF():\n",
    "    global myVar\n",
    "    myVar=\"I still belong to the global scope\"\n",
    "    \n",
    "    def nestedF():\n",
    "        #myVar=\"I belong to the local scope\"\n",
    "        print(myVar)\n",
    "        \n",
    "    nestedF()\n",
    "    \n",
    "    \n",
    "outerF()\n",
    "print(myVar)"
   ]
  },
  {
   "cell_type": "markdown",
   "metadata": {},
   "source": [
    "### The *global* and *nonlocal* keywords"
   ]
  },
  {
   "cell_type": "markdown",
   "metadata": {},
   "source": [
    "But.. how to get access to the global variable to change its value within the function?\n",
    "--> the **global** keyword is used \n",
    "Without it a function can’t modify an immutable object outside its local scope at all"
   ]
  },
  {
   "cell_type": "code",
   "execution_count": 10,
   "metadata": {},
   "outputs": [
    {
     "name": "stdout",
     "output_type": "stream",
     "text": [
      "I belong to the global scope\n",
      "I belong to the enclosing scope\n",
      "I still belong to the enclosing scope\n",
      "I belong to the global scope\n"
     ]
    }
   ],
   "source": [
    "myVar=\"I belong to the global scope\"\n",
    "print(myVar)\n",
    "\n",
    "\n",
    "def outerF():\n",
    "    myVar=\"I belong to the enclosing scope\"\n",
    "    print(myVar)    \n",
    "    \n",
    "    def nestedF():\n",
    "        nonlocal myVar\n",
    "        myVar=\"I still belong to the enclosing scope\"\n",
    "        print(myVar)\n",
    "        \n",
    "    nestedF()\n",
    "    \n",
    "    \n",
    "outerF()\n",
    "print(myVar)"
   ]
  },
  {
   "cell_type": "markdown",
   "metadata": {},
   "source": [
    "But.. how to indicate that a *variable is not local* to the inner function, but rather belongs to an enclosing function’s scope. --> the **nonlocal** keyword is used within nested functions "
   ]
  },
  {
   "cell_type": "markdown",
   "metadata": {},
   "source": [
    "A function can modify an object of mutable type that’s outside its local scope if it modifies the object in place"
   ]
  },
  {
   "cell_type": "code",
   "execution_count": 11,
   "metadata": {},
   "outputs": [
    {
     "name": "stdout",
     "output_type": "stream",
     "text": [
      "[0, 2, 3]\n"
     ]
    }
   ],
   "source": [
    "myList=[1,2,3]\n",
    "\n",
    "def myF():\n",
    "    myList[0]=0\n",
    "    \n",
    "myF()\n",
    "print(myList)"
   ]
  },
  {
   "cell_type": "markdown",
   "metadata": {},
   "source": [
    "But if myF() tries to reassign myList entirely, then it will create a new local object and won’t modify the global myList:"
   ]
  },
  {
   "cell_type": "code",
   "execution_count": 12,
   "metadata": {},
   "outputs": [
    {
     "name": "stdout",
     "output_type": "stream",
     "text": [
      "[1, 2, 3]\n"
     ]
    }
   ],
   "source": [
    "myList=[1,2,3]\n",
    "\n",
    "def myF():\n",
    "    myList=[0,-1]\n",
    "    \n",
    "myF()\n",
    "print(myList)"
   ]
  },
  {
   "cell_type": "markdown",
   "metadata": {},
   "source": [
    "* globals()* returns a reference to the global namespace dictionary"
   ]
  },
  {
   "cell_type": "code",
   "execution_count": 13,
   "metadata": {},
   "outputs": [
    {
     "name": "stdout",
     "output_type": "stream",
     "text": [
      "New value\n",
      "True\n",
      "New value\n"
     ]
    }
   ],
   "source": [
    "myVar='Hanna'\n",
    "\n",
    "def myF():\n",
    "    globals()['myVar']='New value'\n",
    "    print(myVar)\n",
    "    print( myVar is globals()['myVar'])\n",
    "    \n",
    "myF()\n",
    "print(myVar)"
   ]
  },
  {
   "cell_type": "markdown",
   "metadata": {},
   "source": [
    "Python also provides a corresponding built-in function called *locals()*. It’s similar to globals() but accesses objects in the local namespace instead"
   ]
  },
  {
   "cell_type": "code",
   "execution_count": 14,
   "metadata": {},
   "outputs": [
    {
     "name": "stdout",
     "output_type": "stream",
     "text": [
      "Hanna\n",
      "Yehoshyna\n",
      "{'myVar': 'Yehoshyna', 'myVar3': 'CS Instructor'}\n"
     ]
    }
   ],
   "source": [
    "myVar1='Hanna'\n",
    "myVar2='Yehoshyna'\n",
    "\n",
    "def myF(myVar):\n",
    "    print(myVar1)\n",
    "    print(myVar)\n",
    "    myVar3=\"CS Instructor\"\n",
    "    \n",
    "    print(locals())\n",
    "    \n",
    "myF(myVar2)\n"
   ]
  },
  {
   "cell_type": "markdown",
   "metadata": {},
   "source": [
    "If the name specified in the global declaration doesn’t exist in the global scope when the function starts, then a combination of the global statement and an assignment will create it"
   ]
  },
  {
   "cell_type": "code",
   "execution_count": 15,
   "metadata": {},
   "outputs": [
    {
     "name": "stdout",
     "output_type": "stream",
     "text": [
      "Hanna\n"
     ]
    }
   ],
   "source": [
    "def myF():\n",
    "    global myVar\n",
    "    myVar=\"Hanna\"\n",
    "\n",
    "\n",
    "myF()\n",
    "print(myVar)"
   ]
  },
  {
   "cell_type": "markdown",
   "metadata": {},
   "source": [
    "# Passing Multiple Arguments to a Function"
   ]
  },
  {
   "cell_type": "markdown",
   "metadata": {},
   "source": [
    "Consider the following example. This is a simple function that takes two arguments and returns their sum"
   ]
  },
  {
   "cell_type": "code",
   "execution_count": 16,
   "metadata": {},
   "outputs": [],
   "source": [
    "def calculateSum(arg1,arg2):\n",
    "    return arg1+arg2"
   ]
  },
  {
   "cell_type": "markdown",
   "metadata": {},
   "source": [
    "This function works fine, but it’s limited to only 2 arguments. \n",
    "What if you need to sum a varying number of arguments, where the specific *number of arguments passed is only determined at runtime*? "
   ]
  },
  {
   "cell_type": "markdown",
   "metadata": {},
   "source": [
    "The 1st way is often the most intuitive for people that have experience with collections. You simply *pass a list* or a set of all the arguments to your function"
   ]
  },
  {
   "cell_type": "code",
   "execution_count": 17,
   "metadata": {},
   "outputs": [],
   "source": [
    "def calculateSum(argList):\n",
    "    res=0\n",
    "    for arg in argList:\n",
    "        res+=arg\n",
    "    return res"
   ]
  },
  {
   "cell_type": "code",
   "execution_count": 18,
   "metadata": {},
   "outputs": [
    {
     "name": "stdout",
     "output_type": "stream",
     "text": [
      "6\n"
     ]
    }
   ],
   "source": [
    "myIntegers = [1, 2, 3]\n",
    "print(calculateSum(myIntegers))"
   ]
  },
  {
   "cell_type": "markdown",
   "metadata": {},
   "source": [
    "It works, but whenever you call this function you’ll also need to create a list of arguments to pass to it. \n",
    "\n",
    "This can be inconvenient, especially if you don’t know up front all the values that should go into the list."
   ]
  },
  {
   "cell_type": "markdown",
   "metadata": {},
   "source": [
    "### Using the Python args Variable in Function Definitions"
   ]
  },
  {
   "cell_type": "markdown",
   "metadata": {},
   "source": [
    "***args** allows you to pass a varying number of positional arguments"
   ]
  },
  {
   "cell_type": "code",
   "execution_count": 25,
   "metadata": {},
   "outputs": [],
   "source": [
    "def calculateSum(*args):#you use the unpacking operator (*).\n",
    "    res=0\n",
    "    for arg in args:\n",
    "        res+=arg\n",
    "    return res"
   ]
  },
  {
   "cell_type": "code",
   "execution_count": 27,
   "metadata": {},
   "outputs": [
    {
     "name": "stdout",
     "output_type": "stream",
     "text": [
      "3\n",
      "6\n"
     ]
    }
   ],
   "source": [
    "print(calculateSum(1,2))\n",
    "print(calculateSum(1,2,3))"
   ]
  },
  {
   "cell_type": "code",
   "execution_count": 31,
   "metadata": {},
   "outputs": [
    {
     "data": {
      "text/plain": [
       "6"
      ]
     },
     "execution_count": 31,
     "metadata": {},
     "output_type": "execute_result"
    }
   ],
   "source": [
    "myArgs=(1,2,3)\n",
    "calculateSum(*myArgs) #what is important here is the use of the unpacking operator (*)"
   ]
  },
  {
   "cell_type": "code",
   "execution_count": 32,
   "metadata": {},
   "outputs": [
    {
     "ename": "TypeError",
     "evalue": "unsupported operand type(s) for +=: 'int' and 'tuple'",
     "output_type": "error",
     "traceback": [
      "\u001b[1;31m---------------------------------------------------------------------------\u001b[0m",
      "\u001b[1;31mTypeError\u001b[0m                                 Traceback (most recent call last)",
      "Cell \u001b[1;32mIn[32], line 1\u001b[0m\n\u001b[1;32m----> 1\u001b[0m \u001b[43mcalculateSum\u001b[49m\u001b[43m(\u001b[49m\u001b[43mmyArgs\u001b[49m\u001b[43m)\u001b[49m\n",
      "Cell \u001b[1;32mIn[25], line 4\u001b[0m, in \u001b[0;36mcalculateSum\u001b[1;34m(*args)\u001b[0m\n\u001b[0;32m      2\u001b[0m res\u001b[38;5;241m=\u001b[39m\u001b[38;5;241m0\u001b[39m\n\u001b[0;32m      3\u001b[0m \u001b[38;5;28;01mfor\u001b[39;00m arg \u001b[38;5;129;01min\u001b[39;00m args:\n\u001b[1;32m----> 4\u001b[0m     \u001b[43mres\u001b[49m\u001b[38;5;241;43m+\u001b[39;49m\u001b[38;5;241;43m=\u001b[39;49m\u001b[43marg\u001b[49m\n\u001b[0;32m      5\u001b[0m \u001b[38;5;28;01mreturn\u001b[39;00m res\n",
      "\u001b[1;31mTypeError\u001b[0m: unsupported operand type(s) for +=: 'int' and 'tuple'"
     ]
    }
   ],
   "source": [
    "calculateSum(myArgs)"
   ]
  },
  {
   "cell_type": "markdown",
   "metadata": {},
   "source": [
    "### Using the Python kwargs Variable in Function Definitions"
   ]
  },
  {
   "cell_type": "markdown",
   "metadata": {},
   "source": [
    "****kwargs** works just like **args*, but instead of accepting positional arguments it accepts keyword (or named) arguments"
   ]
  },
  {
   "cell_type": "code",
   "execution_count": 28,
   "metadata": {},
   "outputs": [
    {
     "name": "stdout",
     "output_type": "stream",
     "text": [
      "first == 1\n",
      "second == 2\n",
      "third == 3\n",
      "6\n"
     ]
    }
   ],
   "source": [
    "def calculateSum1(**kwargs):\n",
    "    res=0\n",
    "    for key, value in kwargs.items():\n",
    "        print(\"%s == %s\" % (key, value))\n",
    "        res+=value\n",
    "    return res\n",
    "\n",
    "\n",
    "print(calculateSum1(first=1, second=2, third=3) )"
   ]
  },
  {
   "cell_type": "code",
   "execution_count": 30,
   "metadata": {},
   "outputs": [
    {
     "name": "stdout",
     "output_type": "stream",
     "text": [
      "arg1 == 1\n",
      "arg2 == 1\n",
      "arg3 == 3\n",
      "5\n"
     ]
    }
   ],
   "source": [
    "myKwargs = {\"arg1\": 1, \"arg2\": 2, \"arg3\": 3}\n",
    "print(calculateSum1(**myKwargs) )#what is important here is the use of the unpacking operator (**)"
   ]
  },
  {
   "cell_type": "markdown",
   "metadata": {},
   "source": [
    "**args* receives arguments as a *tuple*.\n",
    "\n",
    "***kwargs* receives arguments as a *dictionary*."
   ]
  },
  {
   "cell_type": "markdown",
   "metadata": {},
   "source": [
    "# Python Lambda Functions"
   ]
  },
  {
   "cell_type": "markdown",
   "metadata": {},
   "source": [
    "### Lambda Calculus & Lambda function"
   ]
  },
  {
   "cell_type": "markdown",
   "metadata": {},
   "source": [
    "*Lambda expressions* in Python and other programming languages have their roots in lambda calculus, a model of computation invented by [Alonzo Church](https://plato.stanford.edu/entries/church/)"
   ]
  },
  {
   "cell_type": "markdown",
   "metadata": {},
   "source": [
    "Python is not Python is not inherently a functional language, but it adopted some functional concepts early on. In 1994, *map(), filter(), reduce()*, and the *lambda* operator were added to the language."
   ]
  },
  {
   "cell_type": "markdown",
   "metadata": {},
   "source": [
    "A standard Python function definition using the keyword *def* as follows:"
   ]
  },
  {
   "cell_type": "code",
   "execution_count": 34,
   "metadata": {},
   "outputs": [],
   "source": [
    "def myF(x):\n",
    "    return x+2"
   ]
  },
  {
   "cell_type": "markdown",
   "metadata": {},
   "source": [
    "In contrast, if you use a Python *lambda* construction, you get the following:"
   ]
  },
  {
   "cell_type": "code",
   "execution_count": 35,
   "metadata": {},
   "outputs": [
    {
     "data": {
      "text/plain": [
       "<function __main__.<lambda>(x)>"
      ]
     },
     "execution_count": 35,
     "metadata": {},
     "output_type": "execute_result"
    }
   ],
   "source": [
    "lambda x: x+2"
   ]
  },
  {
   "cell_type": "markdown",
   "metadata": {},
   "source": [
    "The *lambda* expression is composed of:\n",
    "* The **keyword**: lambda\n",
    "* A **bound variable**: x\n",
    "* A **body**: x+2"
   ]
  },
  {
   "cell_type": "markdown",
   "metadata": {},
   "source": [
    "You can apply the function above to an argument by surrounding the function and its argument with parentheses:"
   ]
  },
  {
   "cell_type": "code",
   "execution_count": 36,
   "metadata": {},
   "outputs": [
    {
     "data": {
      "text/plain": [
       "5"
      ]
     },
     "execution_count": 36,
     "metadata": {},
     "output_type": "execute_result"
    }
   ],
   "source": [
    "(lambda x: x+2)(3)"
   ]
  },
  {
   "cell_type": "markdown",
   "metadata": {},
   "source": [
    "Because a lambda function is an expression, it can be named. "
   ]
  },
  {
   "cell_type": "code",
   "execution_count": 37,
   "metadata": {},
   "outputs": [
    {
     "data": {
      "text/plain": [
       "5"
      ]
     },
     "execution_count": 37,
     "metadata": {},
     "output_type": "execute_result"
    }
   ],
   "source": [
    "y=lambda x: x+2\n",
    "y(3)"
   ]
  },
  {
   "cell_type": "code",
   "execution_count": 38,
   "metadata": {},
   "outputs": [
    {
     "data": {
      "text/plain": [
       "'Full name: Hanna Yehoshyna'"
      ]
     },
     "execution_count": 38,
     "metadata": {},
     "output_type": "execute_result"
    }
   ],
   "source": [
    "full_name = lambda first, last: f'Full name: {first.title()} {last.title()}'\n",
    "full_name('Hanna', 'Yehoshyna')"
   ]
  },
  {
   "cell_type": "markdown",
   "metadata": {},
   "source": [
    "Taken literally, an anonymous function is a function without a name. In Python, an anonymous function is created with the [lambda](https://) keyword. "
   ]
  },
  {
   "cell_type": "markdown",
   "metadata": {},
   "source": [
    "In contrast to a normal function, a Python **lambda function is a single expression**. "
   ]
  },
  {
   "cell_type": "code",
   "execution_count": 39,
   "metadata": {},
   "outputs": [
    {
     "data": {
      "text/plain": [
       "'odd'"
      ]
     },
     "execution_count": 39,
     "metadata": {},
     "output_type": "execute_result"
    }
   ],
   "source": [
    "(lambda x:(x % 2 and 'odd' or 'even'))(5)"
   ]
  },
  {
   "cell_type": "code",
   "execution_count": 40,
   "metadata": {},
   "outputs": [
    {
     "data": {
      "text/plain": [
       "'a is minimum'"
      ]
     },
     "execution_count": 40,
     "metadata": {},
     "output_type": "execute_result"
    }
   ],
   "source": [
    "(lambda a,b: (\"a is minimum\" if a < b else \"b is minimum\"))(5,15) #Ternary Operator in Python"
   ]
  },
  {
   "cell_type": "code",
   "execution_count": 42,
   "metadata": {},
   "outputs": [
    {
     "name": "stdout",
     "output_type": "stream",
     "text": [
      "Both are equal\n"
     ]
    }
   ],
   "source": [
    "(lambda a,b:print(\"Both are equal\" if a == b else \"a is greater\" if a > b else \"b is greater\"))(1,1) #Ternary Operator in Nested If else"
   ]
  },
  {
   "cell_type": "code",
   "execution_count": 47,
   "metadata": {},
   "outputs": [
    {
     "name": "stdout",
     "output_type": "stream",
     "text": [
      "b is minimum\n"
     ]
    }
   ],
   "source": [
    "a=500\n",
    "b=50\n",
    "print((lambda: \"b is minimum\", lambda: \"a is minimum\")[a < b]())"
   ]
  },
  {
   "cell_type": "markdown",
   "metadata": {},
   "source": [
    "### Arguments for Python lambda expressions "
   ]
  },
  {
   "cell_type": "markdown",
   "metadata": {},
   "source": [
    "Like a normal function object defined with def, Python lambda expressions support all the different ways of passing arguments. This includes:\n",
    "\n",
    "* Positional arguments\n",
    "* Named arguments (sometimes called keyword arguments)\n",
    "* Variable list of arguments (often referred to as varargs)\n",
    "* Variable list of keyword arguments\n",
    "* Keyword-only arguments"
   ]
  },
  {
   "cell_type": "code",
   "execution_count": 51,
   "metadata": {},
   "outputs": [
    {
     "name": "stdout",
     "output_type": "stream",
     "text": [
      "6\n",
      "6\n",
      "8\n",
      "6\n",
      "6\n"
     ]
    }
   ],
   "source": [
    "print((lambda x, y, z: x + y + z)(1, 2, 3))\n",
    "print((lambda x, y, z=3: x + y + z)(1, 2))\n",
    "print((lambda x, y, z=3: x + y + z)(1, 2,5))\n",
    "print ((lambda *args: sum(args))(1,2,3))\n",
    "print((lambda **kwargs: sum(kwargs.values()))(one=1, two=2, three=3))"
   ]
  },
  {
   "cell_type": "markdown",
   "metadata": {},
   "source": [
    "Using Keyword-Only argument"
   ]
  },
  {
   "cell_type": "code",
   "execution_count": 54,
   "metadata": {},
   "outputs": [
    {
     "name": "stdout",
     "output_type": "stream",
     "text": [
      "Hello-World-!\n"
     ]
    }
   ],
   "source": [
    "print (\"Hello\", \"World\", \"!\",sep=\"-\")"
   ]
  },
  {
   "cell_type": "code",
   "execution_count": 55,
   "metadata": {},
   "outputs": [
    {
     "name": "stdout",
     "output_type": "stream",
     "text": [
      "Hello World ! -\n"
     ]
    }
   ],
   "source": [
    "print (\"Hello\", \"World\",\"!\",\"-\")"
   ]
  },
  {
   "cell_type": "markdown",
   "metadata": {},
   "source": [
    "To make an argument keyword-only, put the astreisk (*) before it while creating the user-defined function."
   ]
  },
  {
   "cell_type": "code",
   "execution_count": 65,
   "metadata": {},
   "outputs": [
    {
     "name": "stdout",
     "output_type": "stream",
     "text": [
      "is number 10\n"
     ]
    }
   ],
   "source": [
    "(lambda a,*, myStr1, myStr2: print(\"{} {} {}\".format(myStr1,myStr2,a)))(10,myStr2=\"number\",myStr1=\"is\")"
   ]
  },
  {
   "cell_type": "code",
   "execution_count": 66,
   "metadata": {},
   "outputs": [
    {
     "name": "stdout",
     "output_type": "stream",
     "text": [
      "is number 10\n"
     ]
    }
   ],
   "source": [
    "(lambda a,*, myStr1, myStr2: print(\"{} {} {}\".format(myStr1,myStr2,a)))(10,myStr1=\"is\", myStr2=\"number\")"
   ]
  },
  {
   "cell_type": "markdown",
   "metadata": {},
   "source": [
    "# Functional Style in Python"
   ]
  },
  {
   "cell_type": "markdown",
   "metadata": {},
   "source": [
    "Functional programming typically uses lists, arrays, and other iterables to represent the data along with a set of functions that operate on that data and transform."
   ]
  },
  {
   "cell_type": "markdown",
   "metadata": {},
   "source": [
    "3 commonly used techniques to process with a functional style:\n",
    "1. **Mapping** consists of applying a transformation function to an iterable to produce a new iterable. Items in the new iterable are produced by calling the transformation function on each item in the original iterable.\n",
    "2. **Filtering** consists of applying a predicate or Boolean-valued function to an iterable to generate a new iterable. Items in the new iterable are produced by filtering out any items in the original iterable that make the predicate function return false.\n",
    "3. **Reducing** consists of applying a reduction function to an iterable to produce a single cumulative value."
   ]
  },
  {
   "cell_type": "markdown",
   "metadata": {},
   "source": [
    "### A map() function"
   ]
  },
  {
   "cell_type": "markdown",
   "metadata": {},
   "source": [
    "What if you need to perform the same operation on all the items of an input iterable to build a new iterable? -->use a Python *for* loop.\n",
    "\n",
    "You can also tackle this problem without an explicit loop"
   ]
  },
  {
   "attachments": {
    "image.png": {
     "image/png": "[encoded data removed]"
    }
   },
   "cell_type": "markdown",
   "metadata": {},
   "source": [
    "**map()** takes a function object and an iterable (or multiple iterables) as arguments and returns an iterator that yields transformed items on demand:\n",
    "\n",
    "![image.png](attachment:image.png)"
   ]
  },
  {
   "cell_type": "markdown",
   "metadata": {},
   "source": [
    "*function* can be any Python function that takes a number of arguments equal to the number of iterables you pass to map()."
   ]
  },
  {
   "cell_type": "code",
   "execution_count": 68,
   "metadata": {},
   "outputs": [
    {
     "name": "stdout",
     "output_type": "stream",
     "text": [
      "<map object at 0x0000029191A77BB0>\n"
     ]
    }
   ],
   "source": [
    "names=[\"hanna\", \"kate\",\"bob\"]\n",
    "\n",
    "def myF(elem):\n",
    "    return elem[0]+elem[-1]\n",
    "\n",
    "print(map(myF,names))"
   ]
  },
  {
   "cell_type": "markdown",
   "metadata": {},
   "source": [
    "Since map() returns an iterator (a map object), you’ll need call list() so that you can exhaust the iterator and turn it into a list object. Note that the original sequence doesn’t get modified in the process."
   ]
  },
  {
   "cell_type": "code",
   "execution_count": 70,
   "metadata": {},
   "outputs": [
    {
     "name": "stdout",
     "output_type": "stream",
     "text": [
      "['je', 'je']\n"
     ]
    }
   ],
   "source": [
    "print(list(map(myF,['joe','jane'])))"
   ]
  },
  {
   "cell_type": "markdown",
   "metadata": {},
   "source": [
    "Since map() is written in C and is highly optimized, its internal implied loop can be more efficient than a regular Python for loop. This is one advantage of using map().\n",
    "\n",
    "A second advantage of using map() is related to memory consumption. With a for loop, you need to store the whole list in your system’s memory. With map(), you get items on demand, and only one item is in your system’s memory at a given time."
   ]
  },
  {
   "cell_type": "markdown",
   "metadata": {},
   "source": [
    "You can reimplement the example using a *lambda* function as follows"
   ]
  },
  {
   "cell_type": "code",
   "execution_count": 71,
   "metadata": {},
   "outputs": [
    {
     "data": {
      "text/plain": [
       "['je', 'je']"
      ]
     },
     "execution_count": 71,
     "metadata": {},
     "output_type": "execute_result"
    }
   ],
   "source": [
    "result=list(map(lambda x:x[0]+x[-1],['joe','jane']))\n",
    "result"
   ]
  },
  {
   "cell_type": "markdown",
   "metadata": {},
   "source": [
    "If you supply *multiple iterables to map()*, then the transformation function must take as many arguments as iterables you pass in"
   ]
  },
  {
   "cell_type": "code",
   "execution_count": 76,
   "metadata": {},
   "outputs": [
    {
     "data": {
      "text/plain": [
       "['Hanna', 'BobBob', 'JaneJaneJane']"
      ]
     },
     "execution_count": 76,
     "metadata": {},
     "output_type": "execute_result"
    }
   ],
   "source": [
    "x=[1,2,3]\n",
    "y=[\"Hanna\",\"Bob\",\"Jane\"]\n",
    "\n",
    "result=list(map(lambda x,y: y*x, y,x))\n",
    "result"
   ]
  },
  {
   "cell_type": "code",
   "execution_count": 77,
   "metadata": {},
   "outputs": [
    {
     "data": {
      "text/plain": [
       "['HANNA', 'BOB', 'JANE']"
      ]
     },
     "execution_count": 77,
     "metadata": {},
     "output_type": "execute_result"
    }
   ],
   "source": [
    "names=[\"Hanna\",\"Bob\",\"Jane\"]\n",
    "list(map(str.upper, names))"
   ]
  },
  {
   "cell_type": "markdown",
   "metadata": {},
   "source": [
    "### The Filtering Problem - *filter()*"
   ]
  },
  {
   "cell_type": "markdown",
   "metadata": {},
   "source": [
    "Let's assume that you need to process a list of numbers and return a new list containing only those numbers greater than 10"
   ]
  },
  {
   "cell_type": "code",
   "execution_count": 79,
   "metadata": {},
   "outputs": [
    {
     "name": "stdout",
     "output_type": "stream",
     "text": [
      "[12, 20]\n"
     ]
    }
   ],
   "source": [
    "numbers = [-20, 12, 0, 1, 20]\n",
    "\n",
    "def extractMyNumbers(myL):\n",
    "    results=[]\n",
    "    for item in myL:\n",
    "        if item>10:\n",
    "            results.append(item)\n",
    "    return results\n",
    "\n",
    "print(extractMyNumbers(numbers))\n"
   ]
  },
  {
   "attachments": {
    "image.png": {
     "image/png": "[encoded data removed]"
    }
   },
   "cell_type": "markdown",
   "metadata": {},
   "source": [
    "Python provides a convenient built-in function, filter(), that abstracts out the logic behind filtering operation:\n",
    "\n",
    "![image.png](attachment:image.png)"
   ]
  },
  {
   "cell_type": "markdown",
   "metadata": {},
   "source": [
    "The first argument, *function*, must be a single-argument function. Typically, you provide a predicate (Boolean-valued) function to this argument. In other words, you provide a function that returns either True or False according to a specific condition"
   ]
  },
  {
   "cell_type": "code",
   "execution_count": 82,
   "metadata": {},
   "outputs": [
    {
     "data": {
      "text/plain": [
       "<filter at 0x29191b0aa10>"
      ]
     },
     "execution_count": 82,
     "metadata": {},
     "output_type": "execute_result"
    }
   ],
   "source": [
    "myNumbers = filter(lambda n: n > 10, numbers)\n",
    "myNumbers"
   ]
  },
  {
   "cell_type": "code",
   "execution_count": 83,
   "metadata": {},
   "outputs": [
    {
     "data": {
      "text/plain": [
       "[12, 20]"
      ]
     },
     "execution_count": 83,
     "metadata": {},
     "output_type": "execute_result"
    }
   ],
   "source": [
    "list(myNumbers)"
   ]
  },
  {
   "cell_type": "code",
   "execution_count": 86,
   "metadata": {},
   "outputs": [
    {
     "data": {
      "text/plain": [
       "['hanna12', 'hanna']"
      ]
     },
     "execution_count": 86,
     "metadata": {},
     "output_type": "execute_result"
    }
   ],
   "source": [
    "userLoginS=[\"hanna12\",\"hanna\",\"hanna!12\"]\n",
    "#useLog can include only letters and digits\n",
    "goodLoginS=list(filter(lambda log:log.isalnum(),userLoginS))\n",
    "goodLoginS"
   ]
  },
  {
   "cell_type": "markdown",
   "metadata": {},
   "source": [
    "# Generators in Python"
   ]
  },
  {
   "cell_type": "markdown",
   "metadata": {},
   "source": [
    "### Generator Function"
   ]
  },
  {
   "cell_type": "markdown",
   "metadata": {},
   "source": [
    "A generator function in Python is defined like a normal function, but whenever it needs to generate a value, it does so with the **yield** keyword rather than return. \n",
    "\n",
    "If the body of a *def* contains #yield, the function automatically becomes a Python generator function."
   ]
  },
  {
   "attachments": {
    "image.png": {
     "image/png": "[encoded data removed]"
    }
   },
   "cell_type": "markdown",
   "metadata": {},
   "source": [
    "![image.png](attachment:image.png)"
   ]
  },
  {
   "cell_type": "markdown",
   "metadata": {},
   "source": [
    "Python Generator functions return a *generator object* that is *iterable*"
   ]
  },
  {
   "cell_type": "code",
   "execution_count": 89,
   "metadata": {},
   "outputs": [],
   "source": [
    "def myF(num, limit):\n",
    "    while num<limit:\n",
    "        yield num**2\n",
    "        num+=1\n",
    "        \n",
    "\n",
    "    "
   ]
  },
  {
   "cell_type": "code",
   "execution_count": 90,
   "metadata": {},
   "outputs": [
    {
     "data": {
      "text/plain": [
       "<generator object myF at 0x000002919204C880>"
      ]
     },
     "execution_count": 90,
     "metadata": {},
     "output_type": "execute_result"
    }
   ],
   "source": [
    "myF(1,10)"
   ]
  },
  {
   "cell_type": "code",
   "execution_count": 92,
   "metadata": {},
   "outputs": [
    {
     "name": "stdout",
     "output_type": "stream",
     "text": [
      "1\n",
      "4\n",
      "9\n",
      "16\n",
      "25\n",
      "36\n",
      "49\n",
      "64\n",
      "81\n"
     ]
    }
   ],
   "source": [
    "for elem in myF(1,10):\n",
    "    print(elem)"
   ]
  },
  {
   "cell_type": "markdown",
   "metadata": {},
   "source": [
    "### Python Generator Expression"
   ]
  },
  {
   "attachments": {
    "image.png": {
     "image/png": "[encoded data removed]"
    }
   },
   "cell_type": "markdown",
   "metadata": {},
   "source": [
    "A generator expression has the following syntax:\n",
    "\n",
    "![image.png](attachment:image.png)"
   ]
  },
  {
   "cell_type": "code",
   "execution_count": 93,
   "metadata": {},
   "outputs": [
    {
     "data": {
      "text/plain": [
       "[0, 1, 4, 9, 16, 25, 36, 49, 64, 81]"
      ]
     },
     "execution_count": 93,
     "metadata": {},
     "output_type": "execute_result"
    }
   ],
   "source": [
    "# create the generator object\n",
    "squares_generator = (i * i for i in range(10))\n",
    "list(squares_generator)"
   ]
  },
  {
   "cell_type": "markdown",
   "metadata": {},
   "source": [
    "Multiple generators can be used to pipeline a series of operations."
   ]
  },
  {
   "cell_type": "code",
   "execution_count": 95,
   "metadata": {},
   "outputs": [
    {
     "data": {
      "text/plain": [
       "[250, 360, 490, 640, 810]"
      ]
     },
     "execution_count": 95,
     "metadata": {},
     "output_type": "execute_result"
    }
   ],
   "source": [
    "list(i * 10 for i in myF(5,10))"
   ]
  },
  {
   "cell_type": "markdown",
   "metadata": {},
   "source": [
    "### Python List Comprehension"
   ]
  },
  {
   "cell_type": "markdown",
   "metadata": {},
   "source": [
    "List comprehension offers a concise way to create a new list based on the values of an existing list by using generator expression"
   ]
  },
  {
   "cell_type": "code",
   "execution_count": 96,
   "metadata": {},
   "outputs": [],
   "source": [
    "userLoginS=[\"hanna12\",\"hanna\",\"hanna!12\"]"
   ]
  },
  {
   "cell_type": "code",
   "execution_count": 104,
   "metadata": {},
   "outputs": [
    {
     "data": {
      "text/plain": [
       "['%hanna1213', '#hanna6', '$hanna!1212']"
      ]
     },
     "execution_count": 104,
     "metadata": {},
     "output_type": "execute_result"
    }
   ],
   "source": [
    "import random\n",
    "userPasswordS=[random.choice([\"!\",\"$\",\"#\",\"%\"])+userLog+str(random.randint(1,15)) for userLog in userLoginS]\n",
    "userPasswordS"
   ]
  },
  {
   "attachments": {
    "image.png": {
     "image/png": "[encoded data removed]"
    }
   },
   "cell_type": "markdown",
   "metadata": {},
   "source": [
    "![image.png](attachment:image.png)"
   ]
  },
  {
   "cell_type": "code",
   "execution_count": 106,
   "metadata": {},
   "outputs": [
    {
     "data": {
      "text/plain": [
       "['HANNA12', 'HANNA!12']"
      ]
     },
     "execution_count": 106,
     "metadata": {},
     "output_type": "execute_result"
    }
   ],
   "source": [
    "[userLog.upper() for userLog in userLoginS if len(userLog)>5]"
   ]
  },
  {
   "cell_type": "markdown",
   "metadata": {},
   "source": [
    "#  Treating functions as First-Class Objects"
   ]
  },
  {
   "cell_type": "markdown",
   "metadata": {},
   "source": [
    "### First-Class Objects"
   ]
  },
  {
   "cell_type": "markdown",
   "metadata": {},
   "source": [
    "This means that functions can be passed around and used as arguments, just like any other object like str, int, float, list, and so on. "
   ]
  },
  {
   "cell_type": "code",
   "execution_count": 107,
   "metadata": {},
   "outputs": [],
   "source": [
    "def sayHi(name):\n",
    "    return f\"Hi {name}\""
   ]
  },
  {
   "cell_type": "code",
   "execution_count": 109,
   "metadata": {},
   "outputs": [],
   "source": [
    "def sayHello(name):\n",
    "    return f\"Hello {name}\""
   ]
  },
  {
   "cell_type": "code",
   "execution_count": 110,
   "metadata": {},
   "outputs": [],
   "source": [
    "def greetPerson(howToGreetFun, person):\n",
    "    print(howToGreetFun(person))\n",
    "    "
   ]
  },
  {
   "cell_type": "code",
   "execution_count": 111,
   "metadata": {},
   "outputs": [
    {
     "name": "stdout",
     "output_type": "stream",
     "text": [
      "Hi Hanna\n"
     ]
    }
   ],
   "source": [
    "greetPerson(sayHi,\"Hanna\")"
   ]
  },
  {
   "cell_type": "code",
   "execution_count": 112,
   "metadata": {},
   "outputs": [
    {
     "name": "stdout",
     "output_type": "stream",
     "text": [
      "Hello Hanna\n"
     ]
    }
   ],
   "source": [
    "greetPerson(sayHello,\"Hanna\")"
   ]
  },
  {
   "cell_type": "code",
   "execution_count": 113,
   "metadata": {},
   "outputs": [],
   "source": [
    "def forHanna(greetF):\n",
    "    return greetF(\"Hanna\")\n",
    "\n",
    "\n",
    "def forKate(greetF):\n",
    "    return greetF(\"Kate\")"
   ]
  },
  {
   "cell_type": "code",
   "execution_count": 115,
   "metadata": {},
   "outputs": [
    {
     "name": "stdout",
     "output_type": "stream",
     "text": [
      "Hi Hanna\n",
      "Hello Kate\n"
     ]
    }
   ],
   "source": [
    "print(forHanna(sayHi))\n",
    "print(forKate(sayHello))"
   ]
  },
  {
   "cell_type": "markdown",
   "metadata": {},
   "source": [
    "def greetPerson(howToGreetFun):\n"
   ]
  },
  {
   "cell_type": "code",
   "execution_count": 108,
   "metadata": {},
   "outputs": [
    {
     "data": {
      "text/plain": [
       "'Hi Bob'"
      ]
     },
     "execution_count": 108,
     "metadata": {},
     "output_type": "execute_result"
    }
   ],
   "source": [
    "hiBob=sayHi('Bob')\n",
    "hiBob"
   ]
  },
  {
   "cell_type": "code",
   "execution_count": null,
   "metadata": {},
   "outputs": [],
   "source": [
    "def "
   ]
  }
 ],
 "metadata": {
  "kernelspec": {
   "display_name": ".venv",
   "language": "python",
   "name": "python3"
  },
  "language_info": {
   "codemirror_mode": {
    "name": "ipython",
    "version": 3
   },
   "file_extension": ".py",
   "mimetype": "text/x-python",
   "name": "python",
   "nbconvert_exporter": "python",
   "pygments_lexer": "ipython3",
   "version": "3.13.0"
  }
 },
 "nbformat": 4,
 "nbformat_minor": 2
}
