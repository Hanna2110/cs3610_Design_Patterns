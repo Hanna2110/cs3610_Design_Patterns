{
  "cells": [
    {
      "cell_type": "markdown",
      "metadata": {
        "id": "HrR1nVWMyV3s"
      },
      "source": [
        "# **Objected Oriented Programming in Python**"
      ]
    },
    {
      "cell_type": "markdown",
      "metadata": {
        "id": "pozbIntXya2I"
      },
      "source": [
        "***Object oriented programming*** is a data-centered programming paradigm that is based on the idea of grouping data and functions that act on particular data in so-called classes.\n",
        "\n",
        "A ***class*** can be seen as a complex data-type, a template if you will.\n",
        "\n",
        "***Variables*** that are of that data type are said to be **objects** or **instances** of that class."
      ]
    },
    {
      "cell_type": "markdown",
      "metadata": {},
      "source": [
        "# Define a Class in Python"
      ]
    },
    {
      "cell_type": "markdown",
      "metadata": {},
      "source": [
        "Python is a great programming language that supports OOP. "
      ]
    },
    {
      "cell_type": "code",
      "execution_count": 2,
      "metadata": {
        "id": "DVQDwZCwwy1y"
      },
      "outputs": [],
      "source": [
        "class Person:\n",
        "    def __init__(self, name, age):\n",
        "        self.name = name\n",
        "        self.age = age"
      ]
    },
    {
      "cell_type": "markdown",
      "metadata": {
        "id": "ZNCpFkfZ0eqa"
      },
      "source": [
        "Here we created a class Person.\n",
        "\n",
        "Inside the class, an ```__init__``` method has to be defined with *def*. This is the initializer that you can later use to instantiate objects. It's similar to a constructor in Java, C++. \n",
        "\n",
        "`__init__` must always be present! \n",
        "\n",
        "Functions that start with underscores are always special functions to Python which are connected with other built-in aspects of the language.\n",
        "\n",
        "Functions within a class are called **methods** - which identify the behaviors and actions that an object created from the class can perform with its data\n",
        "\n",
        "The initialisation method assigns the 2 parameters that are passed to variables that belong to the object, within a class definition the object is always represented by `self`.\n",
        "\n",
        "The first argument of a method is always *self*, and it will always point to the instance of the class. \n",
        "\n",
        "\n",
        "**!!!** This first argument however is never explicitly specified when you call the method. It is implicitly passed by Python itself. That is why you see a discrepancy between the number of arguments in the instantiation and in the class definition.\n",
        "\n",
        "Any *variable or methods in a class can be accessed using the period* (.) syntax:\n",
        "\n",
        "*object.variable*\n",
        "\n",
        "or\n",
        "\n",
        "*object.method*\n"
      ]
    },
    {
      "cell_type": "markdown",
      "metadata": {
        "id": "MvS4LoU81TXL"
      },
      "source": [
        "The *initialisation function* will be called when an object of that initialised. Let's do so:"
      ]
    },
    {
      "cell_type": "code",
      "execution_count": 3,
      "metadata": {
        "colab": {
          "base_uri": "https://localhost:8080/"
        },
        "id": "VaQwfINI1XJ8",
        "outputId": "514990a3-5613-4bbd-d65f-6ba68f8f2a68"
      },
      "outputs": [
        {
          "name": "stdout",
          "output_type": "stream",
          "text": [
            "My name is Anna\n",
            "My age is 20\n"
          ]
        }
      ],
      "source": [
        "instructor = Person(\"Anna\", 20)\n",
        "print(\"My name is \" + instructor.name)\n",
        "print(\"My age is \" + str(instructor.age))"
      ]
    },
    {
      "cell_type": "markdown",
      "metadata": {},
      "source": [
        "**Classes vs Instances**"
      ]
    },
    {
      "cell_type": "markdown",
      "metadata": {},
      "source": [
        "*Classes* allow you to create user-defined data structures.\n",
        "\n",
        "A class is a blueprint for how to define something. It doesn’t actually contain any data. \n",
        "\n",
        "While the class is the blueprint, an instance is an *object* that’s built from a class and contains real data. "
      ]
    },
    {
      "cell_type": "markdown",
      "metadata": {
        "id": "isitT6B67O4y"
      },
      "source": [
        "Unbeknowst to you, we have already made use of countless objects and methods throughout this course.\n",
        "Things like strings, lists, sets, dictionaries are all objects! The object oriented paradigm is ubiquitous in Python!"
      ]
    },
    {
      "attachments": {
        "image.png": {
          "image/png": "[encoded data removed]"
        }
      },
      "cell_type": "markdown",
      "metadata": {},
      "source": [
        "`self.name = name ` creates an attribute called name and assigns the value of the name parameter to it.\n",
        "\n",
        "`self.age = age` creates an attribute called age and assigns the value of the age parameter to it.\n",
        "\n",
        "![image.png](attachment:image.png)"
      ]
    },
    {
      "cell_type": "markdown",
      "metadata": {},
      "source": [
        "### Instance Methods"
      ]
    },
    {
      "cell_type": "markdown",
      "metadata": {},
      "source": [
        "Instance methods are functions that you define inside a class and can only call on an instance of that class. \n",
        "\n",
        "Just like `.__init__()`, an instance method always takes self as its first parameter."
      ]
    },
    {
      "cell_type": "markdown",
      "metadata": {
        "id": "fVFgGIJo1mJ8"
      },
      "source": [
        " Let's extend our example (to print the name and age):"
      ]
    },
    {
      "cell_type": "code",
      "execution_count": 4,
      "metadata": {
        "id": "XMO_yMyv18bt"
      },
      "outputs": [
        {
          "name": "stdout",
          "output_type": "stream",
          "text": [
            "My name is Hanna\n",
            "My age is 25\n"
          ]
        }
      ],
      "source": [
        "class Person:\n",
        "    def __init__(self, name, age):\n",
        "        self.name = name\n",
        "        self.age = age\n",
        "\n",
        "    def introduceyourself(self):\n",
        "        print(\"My name is \" + self.name)\n",
        "        print(\"My age is \" + str(self.age))\n",
        "\n",
        "instructor = Person(\"Hanna\",25)\n",
        "instructor.introduceyourself()"
      ]
    },
    {
      "cell_type": "markdown",
      "metadata": {
        "id": "S_DoT7SAfXyX"
      },
      "source": [
        "When the method is called, Python replaces the *self* argument with the instance object"
      ]
    },
    {
      "cell_type": "markdown",
      "metadata": {
        "id": "cVB-F33cbTeD"
      },
      "source": [
        "Methods like `.__init__()` and `.__str__()` are called **dunder methods** because they begin and end with double underscores.\n",
        "\n",
        "There are many dunder methods that you can use to customize classes in Python\n",
        "\n",
        "[When Should You Use .__repr__() vs .__str__() in Python?](https://realpython.com/python-repr-vs-str/)"
      ]
    },
    {
      "cell_type": "markdown",
      "metadata": {},
      "source": [
        "### Instance attributes VS Class attrubutes"
      ]
    },
    {
      "cell_type": "markdown",
      "metadata": {
        "id": "78WaWVkubXo3"
      },
      "source": [
        "Attributes created in .__init__() are called *instance attributes*.\n",
        "An instance attribute’s value is specific to a particular instance of the class"
      ]
    },
    {
      "cell_type": "markdown",
      "metadata": {
        "id": "FJc4OKwBcBQ8"
      },
      "source": [
        "On the other hand, **class attributes** are attributes that have the same value for all class instances.\n",
        "You can define a class attribute by assigning a value to a variable name outside of .__init__()."
      ]
    },
    {
      "cell_type": "code",
      "execution_count": 5,
      "metadata": {
        "id": "FG2IRCaTcHjH"
      },
      "outputs": [
        {
          "name": "stdout",
          "output_type": "stream",
          "text": [
            "My name is Hanna\n",
            "My age is 25\n"
          ]
        }
      ],
      "source": [
        "class Person:\n",
        "    whoIs=\"homo sapiens\"\n",
        "    def __init__(self, name, age):\n",
        "        self.name = name\n",
        "        self.age = age\n",
        "\n",
        "    def introduceyourself(self):\n",
        "        print(\"My name is \" + self.name)\n",
        "        print(\"My age is \" + str(self.age))\n",
        "\n",
        "instructor = Person(\"Hanna\",25)\n",
        "instructor.introduceyourself()"
      ]
    },
    {
      "cell_type": "markdown",
      "metadata": {
        "id": "o_f4CR3uccwC"
      },
      "source": [
        "When you create an instance of the class, then Python automatically creates and assigns class attributes to their initial values."
      ]
    },
    {
      "cell_type": "code",
      "execution_count": 6,
      "metadata": {
        "id": "054YefFYcnxf"
      },
      "outputs": [
        {
          "name": "stdout",
          "output_type": "stream",
          "text": [
            "homo sapiens\n"
          ]
        },
        {
          "data": {
            "text/plain": [
              "'homo sapiens'"
            ]
          },
          "execution_count": 6,
          "metadata": {},
          "output_type": "execute_result"
        }
      ],
      "source": [
        "instructor1 = Person(\"Hanna\",25)\n",
        "print(instructor1.whoIs)\n",
        "instructor1.whoIs=\"woman\"\n",
        "\n",
        "instructor2 = Person(\"Anna\",20)\n",
        "instructor2.whoIs"
      ]
    },
    {
      "cell_type": "markdown",
      "metadata": {
        "id": "FVaPNWSqdqUu"
      },
      "source": [
        "To determine which class a given object belongs to, you can use the *built-in type()*:"
      ]
    },
    {
      "cell_type": "code",
      "execution_count": 7,
      "metadata": {
        "id": "9Yavx1vwdsZW"
      },
      "outputs": [
        {
          "data": {
            "text/plain": [
              "__main__.Person"
            ]
          },
          "execution_count": 7,
          "metadata": {},
          "output_type": "execute_result"
        }
      ],
      "source": [
        "type(instructor1)"
      ]
    },
    {
      "cell_type": "markdown",
      "metadata": {},
      "source": [
        "Creating a new object from a class is called instantiating a class."
      ]
    },
    {
      "cell_type": "code",
      "execution_count": 8,
      "metadata": {},
      "outputs": [
        {
          "name": "stdout",
          "output_type": "stream",
          "text": [
            "2008524142928 2008524143232 2008524142928\n"
          ]
        }
      ],
      "source": [
        "instructor1 = Person(\"Hanna\",25)\n",
        "instructor2 = Person(\"Hanna\",25)\n",
        "instructor3=instructor1\n",
        "print(id(instructor1),id(instructor2),id(instructor3))"
      ]
    },
    {
      "cell_type": "code",
      "execution_count": 9,
      "metadata": {},
      "outputs": [
        {
          "data": {
            "text/plain": [
              "True"
            ]
          },
          "execution_count": 9,
          "metadata": {},
          "output_type": "execute_result"
        }
      ],
      "source": [
        "instructor3==instructor1"
      ]
    },
    {
      "cell_type": "markdown",
      "metadata": {},
      "source": [
        "The instructor2 instance is located at a different memory address. That’s because it’s an entirely new instance and is completely unique from the first instructor1 object that we created before.\n",
        "\n",
        "But instructor3 nad instructor1 represent the same object in memory."
      ]
    },
    {
      "cell_type": "markdown",
      "metadata": {},
      "source": [
        "### `.__repr__()` vs .`__str__()` in Python"
      ]
    },
    {
      "cell_type": "markdown",
      "metadata": {},
      "source": [
        "One of the most common tasks that a computer program performs is to display data. "
      ]
    },
    {
      "cell_type": "markdown",
      "metadata": {},
      "source": [
        "Let's try to print the Person object to see what output you get"
      ]
    },
    {
      "cell_type": "code",
      "execution_count": 10,
      "metadata": {},
      "outputs": [
        {
          "name": "stdout",
          "output_type": "stream",
          "text": [
            "<__main__.Person object at 0x000001D3A55E3950>\n"
          ]
        }
      ],
      "source": [
        "print(instructor1)"
      ]
    },
    {
      "cell_type": "markdown",
      "metadata": {},
      "source": [
        "You can change what gets printed by defining a special instance method called `.__str__()`."
      ]
    },
    {
      "cell_type": "code",
      "execution_count": 11,
      "metadata": {},
      "outputs": [],
      "source": [
        "class Person:\n",
        "    whoIs=\"homo sapiens\"\n",
        "    def __init__(self, name, age):\n",
        "        self.name = name\n",
        "        self.age = age\n",
        "        \n",
        "    def __str__(self):\n",
        "        return f\"{self.name} is {self.whoIs} and {self.age} years old\"\n",
        "\n",
        "    def introduceyourself(self):\n",
        "        print(\"My name is \" + self.name)\n",
        "        print(\"My age is \" + str(self.age))\n",
        "\n"
      ]
    },
    {
      "cell_type": "code",
      "execution_count": 12,
      "metadata": {},
      "outputs": [
        {
          "name": "stdout",
          "output_type": "stream",
          "text": [
            "Hanna is homo sapiens and 25 years old\n"
          ]
        }
      ],
      "source": [
        "instructor = Person(\"Hanna\",25)\n",
        "print(instructor)"
      ]
    },
    {
      "cell_type": "markdown",
      "metadata": {},
      "source": [
        "The reason there are two methods to display an object is that they have different purposes:\n",
        "\n",
        "* `.__repr__()` provides the official string representation of an object, aimed at the programmer.\n",
        "* `.__str__()` provides the informal string representation of an object, aimed at the user."
      ]
    },
    {
      "cell_type": "code",
      "execution_count": 15,
      "metadata": {},
      "outputs": [],
      "source": [
        "class Person:\n",
        "    whoIs=\"homo sapiens\"\n",
        "    def __init__(self, name, age):\n",
        "        self.name = name\n",
        "        self.age = age\n",
        "        \n",
        "    def __str__(self):\n",
        "        return f\"{self.name} is {self.whoIs} and {self.age} years old\"\n",
        "    \n",
        "    def __repr__(self):\n",
        "        class_name = type(self).__name__\n",
        "        return f\"{class_name}(name={self.name!r})\"\n",
        "\n",
        "    def introduceyourself(self):\n",
        "        print(\"My name is \" + self.name)\n",
        "        print(\"My age is \" + str(self.age))"
      ]
    },
    {
      "cell_type": "code",
      "execution_count": 16,
      "metadata": {},
      "outputs": [
        {
          "name": "stdout",
          "output_type": "stream",
          "text": [
            "Hanna is homo sapiens and 25 years old\n"
          ]
        },
        {
          "data": {
            "text/plain": [
              "\"Person(name='Hanna')\""
            ]
          },
          "execution_count": 16,
          "metadata": {},
          "output_type": "execute_result"
        }
      ],
      "source": [
        "instructor = Person(\"Hanna\",25)\n",
        "print(instructor)\n",
        "repr(instructor)"
      ]
    },
    {
      "cell_type": "markdown",
      "metadata": {},
      "source": [
        "Both repr() and str() return this string representation by default"
      ]
    },
    {
      "cell_type": "code",
      "execution_count": 17,
      "metadata": {},
      "outputs": [
        {
          "data": {
            "text/plain": [
              "'Hanna is homo sapiens and 25 years old'"
            ]
          },
          "execution_count": 17,
          "metadata": {},
          "output_type": "execute_result"
        }
      ],
      "source": [
        "str(instructor)"
      ]
    },
    {
      "cell_type": "markdown",
      "metadata": {},
      "source": [
        "### Manage Attributes in Python: getters & setters"
      ]
    },
    {
      "cell_type": "markdown",
      "metadata": {},
      "source": [
        "* Getter: A method that allows you to access an attribute in a given class\n",
        "* Setter: A method that allows you to set or mutate the value of an attribute in a class\n",
        "\n",
        "These methods allow you to access and mutate private attributes while maintaining encapsulation."
      ]
    },
    {
      "cell_type": "markdown",
      "metadata": {},
      "source": [
        "In Python attributes automatically become part of the class’s public API. They’ll be public attributes, which means that your users will directly access and mutate the attributes in their code."
      ]
    },
    {
      "cell_type": "markdown",
      "metadata": {},
      "source": [
        "Encapsulation is  fundamental topic related to the origin of getter and setter methods. Essentially, this principle refers to bundling data with the methods that operate on that data. This way, access and mutation operations will be done through methods exclusively."
      ]
    },
    {
      "cell_type": "markdown",
      "metadata": {},
      "source": [
        "Implementing the getter and setter pattern requires:\n",
        "\n",
        "1. Making your attributes non-public\n",
        "2. Writing getter and setter methods for each attribute"
      ]
    },
    {
      "cell_type": "code",
      "execution_count": 1,
      "metadata": {},
      "outputs": [],
      "source": [
        "from datetime import date\n",
        "\n",
        "class Message:\n",
        "    def __init__(self, text, msgDate=date.today()):\n",
        "        self._text = text #non-public instance attribute\n",
        "        self._msgDate=msgDate#non-public instance attribute\n",
        "        \n",
        "    def get_text(self):\n",
        "        return self._text\n",
        "\n",
        "    def set_text(self, value):\n",
        "        self._text = value\n",
        "\n",
        "    def get_date(self):\n",
        "        return self._msgDate\n",
        "\n",
        "    def set_date(self, value):\n",
        "        self._msgDate=date.fromisoformat(value)"
      ]
    },
    {
      "cell_type": "code",
      "execution_count": 3,
      "metadata": {},
      "outputs": [],
      "source": [
        "hannaMsg1=Message(\"Hello\")"
      ]
    },
    {
      "cell_type": "code",
      "execution_count": 4,
      "metadata": {},
      "outputs": [
        {
          "data": {
            "text/plain": [
              "'Hello'"
            ]
          },
          "execution_count": 4,
          "metadata": {},
          "output_type": "execute_result"
        }
      ],
      "source": [
        "hannaMsg1.get_text()"
      ]
    },
    {
      "cell_type": "code",
      "execution_count": 5,
      "metadata": {},
      "outputs": [
        {
          "data": {
            "text/plain": [
              "datetime.date(2024, 10, 24)"
            ]
          },
          "execution_count": 5,
          "metadata": {},
          "output_type": "execute_result"
        }
      ],
      "source": [
        "hannaMsg1.get_date()"
      ]
    },
    {
      "cell_type": "code",
      "execution_count": 6,
      "metadata": {},
      "outputs": [],
      "source": [
        "hannaMsg1.set_text(\"HI!\")"
      ]
    },
    {
      "cell_type": "code",
      "execution_count": 7,
      "metadata": {},
      "outputs": [
        {
          "data": {
            "text/plain": [
              "'HI!'"
            ]
          },
          "execution_count": 7,
          "metadata": {},
          "output_type": "execute_result"
        }
      ],
      "source": [
        "hannaMsg1._text"
      ]
    },
    {
      "cell_type": "code",
      "execution_count": 8,
      "metadata": {},
      "outputs": [],
      "source": [
        "hannaMsg1._text=\"hi\""
      ]
    },
    {
      "cell_type": "code",
      "execution_count": 9,
      "metadata": {},
      "outputs": [
        {
          "data": {
            "text/plain": [
              "'hi'"
            ]
          },
          "execution_count": 9,
          "metadata": {},
          "output_type": "execute_result"
        }
      ],
      "source": [
        "hannaMsg1.get_text()"
      ]
    },
    {
      "cell_type": "markdown",
      "metadata": {},
      "source": [
        "If you want to indicate that an attribute or method is intended for use within the class and its subclasses but not for external use, prefix it with a `single underscore (_)`. This is a convention in Python that signals to other developers that the attribute or method is \"protected\" and should not be accessed directly."
      ]
    },
    {
      "cell_type": "markdown",
      "metadata": {},
      "source": [
        "Use a single underscore for *“Protected”* attributes. "
      ]
    },
    {
      "cell_type": "markdown",
      "metadata": {},
      "source": [
        "Use double underscore for *“Private”* attributes. \n",
        "\n",
        "If you want to make an attribute or method less accessible outside the class to avoid accidental modification or usage, prefix it with a double underscore (__). This triggers name mangling and makes it harder (but not impossible) to access the attribute or method from outside the class."
      ]
    },
    {
      "cell_type": "code",
      "execution_count": 10,
      "metadata": {},
      "outputs": [],
      "source": [
        "class Message:\n",
        "    def __init__(self, text, msgDate=date.today()):\n",
        "        self.__text = text #non-public instance attribute\n",
        "        self.__msgDate=msgDate#non-public instance attribute\n",
        "        \n",
        "    def get_text(self):\n",
        "        return self.__text\n",
        "\n",
        "    def set_text(self, value):\n",
        "        self.__text = value\n",
        "\n",
        "    def get_date(self):\n",
        "        return self.__msgDate\n",
        "\n",
        "    def set_date(self, value):\n",
        "        self.__msgDate=date.fromisoformat(value)"
      ]
    },
    {
      "cell_type": "code",
      "execution_count": 11,
      "metadata": {},
      "outputs": [
        {
          "ename": "AttributeError",
          "evalue": "'Message' object has no attribute '__text'",
          "output_type": "error",
          "traceback": [
            "\u001b[1;31m---------------------------------------------------------------------------\u001b[0m",
            "\u001b[1;31mAttributeError\u001b[0m                            Traceback (most recent call last)",
            "Cell \u001b[1;32mIn[11], line 2\u001b[0m\n\u001b[0;32m      1\u001b[0m hannaMsg2\u001b[38;5;241m=\u001b[39mMessage(\u001b[38;5;124m\"\u001b[39m\u001b[38;5;124mHello\u001b[39m\u001b[38;5;124m\"\u001b[39m)\n\u001b[1;32m----> 2\u001b[0m \u001b[43mhannaMsg2\u001b[49m\u001b[38;5;241;43m.\u001b[39;49m\u001b[43m__text\u001b[49m\n",
            "\u001b[1;31mAttributeError\u001b[0m: 'Message' object has no attribute '__text'"
          ]
        }
      ],
      "source": [
        "hannaMsg2=Message(\"Hello\")\n",
        "hannaMsg2.__text"
      ]
    },
    {
      "cell_type": "code",
      "execution_count": 12,
      "metadata": {},
      "outputs": [
        {
          "data": {
            "text/plain": [
              "'Hello'"
            ]
          },
          "execution_count": 12,
          "metadata": {},
          "output_type": "execute_result"
        }
      ],
      "source": [
        "hannaMsg2.get_text()"
      ]
    },
    {
      "cell_type": "code",
      "execution_count": 14,
      "metadata": {},
      "outputs": [
        {
          "data": {
            "text/plain": [
              "'How are you?'"
            ]
          },
          "execution_count": 14,
          "metadata": {},
          "output_type": "execute_result"
        }
      ],
      "source": [
        "hannaMsg2.set_text(\"How are you?\")\n",
        "hannaMsg2.get_text()"
      ]
    },
    {
      "cell_type": "markdown",
      "metadata": {},
      "source": [
        "https://www.datacamp.com/tutorial/python-private-methods-explained"
      ]
    },
    {
      "cell_type": "markdown",
      "metadata": {},
      "source": [
        "### Using Properties Instead of Getters and Setters"
      ]
    },
    {
      "cell_type": "markdown",
      "metadata": {},
      "source": [
        "The Pythonic way to attach behavior to an attribute is to turn the attribute itself into a **property**. \n",
        "\n",
        "Properties pack together methods for getting, setting, deleting, and documenting the underlying data. Therefore, properties are special attributes with additional behavior."
      ]
    },
    {
      "cell_type": "code",
      "execution_count": 15,
      "metadata": {},
      "outputs": [],
      "source": [
        "from datetime import date\n",
        "\n",
        "class Student:\n",
        "    def __init__(self, name, birth_date, start_date):\n",
        "        self.name = name\n",
        "        self.birth_date = birth_date\n",
        "        self.start_date = start_date\n",
        "\n",
        "    @property\n",
        "    def name(self):\n",
        "        return self._name\n",
        "\n",
        "    @name.setter\n",
        "    def name(self, value):\n",
        "        self._name = value.upper()\n",
        "\n",
        "    @property\n",
        "    def birth_date(self):\n",
        "        return self._birth_date\n",
        "\n",
        "    @birth_date.setter\n",
        "    def birth_date(self, value):\n",
        "        self._birth_date = date.fromisoformat(value)\n",
        "\n",
        "    @property\n",
        "    def start_date(self):\n",
        "        return self._start_date\n",
        "\n",
        "    @start_date.setter\n",
        "    def start_date(self, value):\n",
        "        self._start_date = date.fromisoformat(value)"
      ]
    },
    {
      "cell_type": "markdown",
      "metadata": {},
      "source": [
        "In this  vStudent class, you turn `.name` and `.birth_date` into properties using the @**property** decorator. \n",
        "\n",
        "Now each attribute has a getter and a setter method named after the attribute itself. \n",
        "\n",
        "Note that the setter of .name turns the input name into uppercase letters. Similarly, the setter of .birth_date automatically converts the input date into a date object for you."
      ]
    },
    {
      "cell_type": "code",
      "execution_count": 17,
      "metadata": {},
      "outputs": [],
      "source": [
        "stKate = Student(\"Kate\", \"2010-04-07\",\"2024-09-01\")"
      ]
    },
    {
      "cell_type": "code",
      "execution_count": 18,
      "metadata": {},
      "outputs": [
        {
          "data": {
            "text/plain": [
              "'KATE'"
            ]
          },
          "execution_count": 18,
          "metadata": {},
          "output_type": "execute_result"
        }
      ],
      "source": [
        "stKate.name"
      ]
    },
    {
      "cell_type": "markdown",
      "metadata": {},
      "source": [
        "You’ve added behavior to the .name and .birth_date attributes without affecting your class’s API. With properties, you’ve gained the ability to refer to these attributes as you would to regular attributes. Behind the scenes, Python takes care of running the appropriate methods for you."
      ]
    },
    {
      "cell_type": "markdown",
      "metadata": {},
      "source": [
        "### Class methods"
      ]
    },
    {
      "cell_type": "markdown",
      "metadata": {
        "id": "Osq5w5vgg6Cv"
      },
      "source": [
        "A **class method** is a method that is bound to a class rather than its object. It doesn't require creation of a class instance.\n",
        "\n",
        "Class method works with the class since its parameter is always the class itself.\n",
        "\n",
        "The class method can be called both by the class and its object.\n",
        "\n",
        "You can use the @**classmethod** decorator for classmethod definition\n",
        "![image.png](data:image/png;base64,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)\n",
        "\n",
        "The class method is always attached to a class with the first argument as the class itself *cls*"
      ]
    },
    {
      "cell_type": "markdown",
      "metadata": {
        "id": "2XUtqQy8h62x"
      },
      "source": [
        "*When do you use the class method?*\n",
        "1. *Factory methods*\n",
        "\n",
        "are those methods that return a class object (like constructor) for different use cases.\n",
        "\n",
        "It is similar to function overloading in C++ . Since, Python doesn't have anything as such, class methods and static methods are used."
      ]
    },
    {
      "cell_type": "code",
      "execution_count": 20,
      "metadata": {
        "id": "MHe_wfg2iSCz"
      },
      "outputs": [
        {
          "name": "stdout",
          "output_type": "stream",
          "text": [
            "My name is Hanna\n",
            "My age is 24\n"
          ]
        }
      ],
      "source": [
        "from datetime import date\n",
        "\n",
        "class Person:\n",
        "    whoIs=\"homo sapiens\"\n",
        "    def __init__(self, name, age):\n",
        "        self.name = name\n",
        "        self.age = age\n",
        "\n",
        "    def introduceyourself(self):\n",
        "        print(\"My name is \" + self.name)\n",
        "        print(\"My age is \" + str(self.age))\n",
        "\n",
        "    @classmethod\n",
        "    def fromBirthYear(cls, name, birthYear):\n",
        "        return cls(name, date.today().year - birthYear)\n",
        "\n",
        "instructor = Person.fromBirthYear('Hanna',  2000)\n",
        "instructor.introduceyourself()"
      ]
    },
    {
      "cell_type": "markdown",
      "metadata": {
        "id": "FyPzMMHgiql6"
      },
      "source": [
        "2. Correct instance creation in *inheritance* - see later..."
      ]
    },
    {
      "cell_type": "markdown",
      "metadata": {},
      "source": [
        "### Static methods"
      ]
    },
    {
      "cell_type": "markdown",
      "metadata": {},
      "source": [
        "**Static methods**, as the name suggests, are not bound to either the class or its instances. They are defined using the *@staticmethod* decorator and do not take a reference to the instance or the class as their first parameter.\n",
        "\n",
        "Static methods are essentially regular functions within the class namespace and are useful for tasks that do not depend on instance-specific or class-specific data.\n",
        "\n",
        "A static method can be called on the class itself, rather than on an instance of the class.\n",
        "\n",
        "One of the main benefits of using static methods in Python is that they can be called without creating an instance of the class. This makes them useful for utility functions and other methods that don’t need access to instance-specific data.\n",
        "\n",
        "Another advantage of using static methods is that they can improve the organization and readability of your code. By grouping related functions and utility methods together in a single class, you can make it easier to understand the purpose and functionality of each part of your code."
      ]
    },
    {
      "cell_type": "code",
      "execution_count": 33,
      "metadata": {},
      "outputs": [
        {
          "data": {
            "text/plain": [
              "True"
            ]
          },
          "execution_count": 33,
          "metadata": {},
          "output_type": "execute_result"
        }
      ],
      "source": [
        "from datetime import date\n",
        "\n",
        "class Instructor(Person): #this class inherits the class Person\n",
        "    whoIs=\"smart homo sapiens\"\n",
        "    def __init__(self, name, age):\n",
        "        self.courses = [] #initialise a new variable\n",
        "        super().__init__(name,age) #call the init of Person\n",
        "\n",
        "    @staticmethod\n",
        "    def is_weekday(day):\n",
        "        if day.weekday() == 5 or day.weekday() == 6:\n",
        "            return False\n",
        "        return True\n",
        "\n",
        "\n",
        "instructor1 = Instructor(\"Hanna\",20)\n",
        "day = date(2024, 12, 25)\n",
        "instructor1.is_weekday(day)"
      ]
    },
    {
      "cell_type": "markdown",
      "metadata": {
        "id": "5gLjH9Yx7fVp"
      },
      "source": [
        "# **Inheritance**"
      ]
    },
    {
      "attachments": {
        "image.png": {
          "image/png": "[encoded data removed]"
        }
      },
      "cell_type": "markdown",
      "metadata": {},
      "source": [
        "![image.png](attachment:image.png)"
      ]
    },
    {
      "cell_type": "markdown",
      "metadata": {},
      "source": [
        "### How Do You Inherit From Another Class in Python?"
      ]
    },
    {
      "cell_type": "markdown",
      "metadata": {
        "id": "zm1QzqsS7lNK"
      },
      "source": [
        "You can build more specialised classes on top of more generic classes.\n",
        "*Person* for instance is a rather generic concept. We can use this generic class to build a more specialised class *Teacher*, a person that teaches a course.\n",
        "\n",
        "If you use inheritance, everything that the parent class could do, the inherited class can do as well!\n",
        "\n",
        "The syntax for inheritance is as follows, do not confuse it with parameters in a function/method definition.\n",
        "\n",
        "We also add an extra method *stateprofession()* otherwise *Teacher* would be no different than *Person*:"
      ]
    },
    {
      "cell_type": "code",
      "execution_count": 21,
      "metadata": {
        "id": "ynAgWTEW8FIK"
      },
      "outputs": [],
      "source": [
        "class Person:\n",
        "    def __init__(self, name, age):\n",
        "        self.name = name\n",
        "        self.age = age\n",
        "\n",
        "    def introduceyourself(self):\n",
        "        print(\"My name is \" + self.name)\n",
        "        print(\"My age is \" + str(self.age))\n",
        "\n",
        "\n",
        "class Teacher(Person): #this class inherits the class Person\n",
        "    def stateprofession(self):\n",
        "        print(\"I am a teacher!\")"
      ]
    },
    {
      "cell_type": "code",
      "execution_count": 22,
      "metadata": {
        "id": "E-looEIU8NZp"
      },
      "outputs": [
        {
          "name": "stdout",
          "output_type": "stream",
          "text": [
            "My name is Hanna\n",
            "My age is 20\n",
            "I am a teacher!\n"
          ]
        }
      ],
      "source": [
        "instructor = Teacher(\"Hanna\",20)\n",
        "instructor.introduceyourself()\n",
        "instructor.stateprofession()"
      ]
    },
    {
      "cell_type": "markdown",
      "metadata": {
        "id": "mpoa-Z6Yt-Sp"
      },
      "source": [
        "In OOP, Inheritance signifies an IS-A relation."
      ]
    },
    {
      "cell_type": "markdown",
      "metadata": {},
      "source": [
        "### Getter and Setters vs Properties in Inheritance"
      ]
    },
    {
      "cell_type": "code",
      "execution_count": 19,
      "metadata": {},
      "outputs": [
        {
          "name": "stdout",
          "output_type": "stream",
          "text": [
            "Hanna\n",
            "Anna\n",
            "Franco\n"
          ]
        },
        {
          "ename": "AttributeError",
          "evalue": "property 'name' of 'Teacher' object has no setter",
          "output_type": "error",
          "traceback": [
            "\u001b[1;31m---------------------------------------------------------------------------\u001b[0m",
            "\u001b[1;31mAttributeError\u001b[0m                            Traceback (most recent call last)",
            "Cell \u001b[1;32mIn[19], line 26\u001b[0m\n\u001b[0;32m     24\u001b[0m instructor2 \u001b[38;5;241m=\u001b[39m Teacher(\u001b[38;5;124m\"\u001b[39m\u001b[38;5;124mfranco\u001b[39m\u001b[38;5;124m\"\u001b[39m,\u001b[38;5;241m20\u001b[39m)\n\u001b[0;32m     25\u001b[0m \u001b[38;5;28mprint\u001b[39m(instructor2\u001b[38;5;241m.\u001b[39mname)\n\u001b[1;32m---> 26\u001b[0m \u001b[43minstructor2\u001b[49m\u001b[38;5;241;43m.\u001b[39;49m\u001b[43mname\u001b[49m\u001b[38;5;241m=\u001b[39m\u001b[38;5;124m\"\u001b[39m\u001b[38;5;124mAnna\u001b[39m\u001b[38;5;124m\"\u001b[39m\n",
            "\u001b[1;31mAttributeError\u001b[0m: property 'name' of 'Teacher' object has no setter"
          ]
        }
      ],
      "source": [
        "class Person:\n",
        "    whoIs=\"homo sapiens\"\n",
        "    def __init__(self, name, age):\n",
        "        self._name = name #non-public\n",
        "\n",
        "    @property\n",
        "    def name(self):\n",
        "        return self._name\n",
        "\n",
        "    @name.setter\n",
        "    def name(self, value):\n",
        "        self._name = value\n",
        "\n",
        "class Teacher(Person): #this class inherits the class Person\n",
        "    @property\n",
        "    def name(self):\n",
        "      return super().name.title()\n",
        "\n",
        "instructor1 = Person(\"Hanna\",25)\n",
        "print(instructor1.name)\n",
        "instructor1.name=\"Anna\"\n",
        "print(instructor1.name)\n",
        "\n",
        "instructor2 = Teacher(\"franco\",20)\n",
        "print(instructor2.name)\n",
        "instructor2.name=\"Anna\"\n",
        "\n",
        "\n"
      ]
    },
    {
      "cell_type": "markdown",
      "metadata": {},
      "source": [
        "Now `.name` is a read-only property because the setter method of the parent class wasn’t inherited but was overridden by a completely new property.\n",
        "\n",
        "This way, you’re implicitly overriding the whole .name property, including its setter functionality:"
      ]
    },
    {
      "cell_type": "markdown",
      "metadata": {},
      "source": [
        "How can you solve this inheritance issue?"
      ]
    },
    {
      "cell_type": "markdown",
      "metadata": {},
      "source": [
        "If you use traditional getter and setter methods, then the issue won’t happen:"
      ]
    },
    {
      "cell_type": "code",
      "execution_count": 23,
      "metadata": {},
      "outputs": [],
      "source": [
        "class Person:\n",
        "    def __init__(self, name):\n",
        "        self.__name = name\n",
        "\n",
        "    def get_name(self):\n",
        "        return self.__name\n",
        "\n",
        "    def set_name(self, value):\n",
        "        self.__name = value\n",
        "\n",
        "class Employee(Person):\n",
        "    def get_name(self):\n",
        "        return super().get_name().upper()"
      ]
    },
    {
      "cell_type": "code",
      "execution_count": 24,
      "metadata": {},
      "outputs": [
        {
          "ename": "AttributeError",
          "evalue": "'Employee' object has no attribute '__name'",
          "output_type": "error",
          "traceback": [
            "\u001b[1;31m---------------------------------------------------------------------------\u001b[0m",
            "\u001b[1;31mAttributeError\u001b[0m                            Traceback (most recent call last)",
            "Cell \u001b[1;32mIn[24], line 2\u001b[0m\n\u001b[0;32m      1\u001b[0m hanna \u001b[38;5;241m=\u001b[39m Employee(\u001b[38;5;124m\"\u001b[39m\u001b[38;5;124mHanna\u001b[39m\u001b[38;5;124m\"\u001b[39m)\n\u001b[1;32m----> 2\u001b[0m \u001b[43mhanna\u001b[49m\u001b[38;5;241;43m.\u001b[39;49m\u001b[43m__name\u001b[49m\n",
            "\u001b[1;31mAttributeError\u001b[0m: 'Employee' object has no attribute '__name'"
          ]
        }
      ],
      "source": [
        "hanna = Employee(\"Hanna\")\n",
        "hanna.__name"
      ]
    },
    {
      "cell_type": "code",
      "execution_count": 26,
      "metadata": {},
      "outputs": [
        {
          "data": {
            "text/plain": [
              "'HANNA'"
            ]
          },
          "execution_count": 26,
          "metadata": {},
          "output_type": "execute_result"
        }
      ],
      "source": [
        "hanna.get_name()"
      ]
    },
    {
      "cell_type": "markdown",
      "metadata": {},
      "source": [
        "The overridden getter method works as expected. \n",
        "\n",
        "The setter method also works because it was successfully inherited from Person."
      ]
    },
    {
      "cell_type": "code",
      "execution_count": 27,
      "metadata": {},
      "outputs": [
        {
          "data": {
            "text/plain": [
              "'ANNA'"
            ]
          },
          "execution_count": 27,
          "metadata": {},
          "output_type": "execute_result"
        }
      ],
      "source": [
        "hanna.set_name(\"Anna\")\n",
        "hanna.get_name()"
      ]
    },
    {
      "cell_type": "markdown",
      "metadata": {},
      "source": [
        "### Overloading VS Overriding"
      ]
    },
    {
      "cell_type": "markdown",
      "metadata": {
        "id": "FR01xbEPuE0Q"
      },
      "source": [
        "**Overloading** refers to the ability to define a function with the same name multiple times and seeing different results depending on the number or types of the parameters.\n",
        "\n",
        "**Overriding** refers to having a method with the same name in the child class as in the parent class. The definition of the method differs in parent and child classes but the name remains the same.\n",
        "\n",
        "**!!!** Overriding means that the first definition will not be available anymore.\n",
        "\n"
      ]
    },
    {
      "cell_type": "markdown",
      "metadata": {
        "id": "95MSgWN78L3C"
      },
      "source": [
        "Instead of completely overloading a method, you can also **call the method of the parent class** (to avoid repetition of code.\n",
        "\n",
        "We need to keep track of the courses that are taught by the teacher."
      ]
    },
    {
      "cell_type": "code",
      "execution_count": null,
      "metadata": {
        "id": "tNiEbr6ZVle4"
      },
      "outputs": [],
      "source": [
        "class Teacher(Person): #this class inherits the class Person\n",
        "    def __init__(self, name, age):\n",
        "        self.courses = [] #initialise a new variable\n",
        "        super().__init__(name,age) #call the init of Person\n",
        "\n",
        "    def stateOccupation(self):\n",
        "        print(\"I am a teacher!\")\n",
        "\n",
        "    def introduceyourself(self):\n",
        "        super().introduceyourself() #call the introduceyourself() of the Person\n",
        "        self.stateOccupation()\n",
        "        print(\"I teach \" + str(self.nCourses()) + \" course(s)\")\n",
        "        for course in self.courses:\n",
        "            print(\"I teach \" + course)\n",
        "\n",
        "\n",
        "\n",
        "    def addcourse(self, course):\n",
        "        self.courses.append(course)\n",
        "\n",
        "    def nCourses(self):\n",
        "        return len(self.courses)\n",
        "\n"
      ]
    },
    {
      "cell_type": "code",
      "execution_count": null,
      "metadata": {
        "id": "WZwq4q7ZVpwE"
      },
      "outputs": [],
      "source": [
        "instructor = Teacher(\"Hanna\",20)\n",
        "instructor.addcourse(\"Software Engineering\")\n",
        "instructor.addcourse(\"AI\")\n",
        "instructor.introduceyourself()"
      ]
    },
    {
      "cell_type": "markdown",
      "metadata": {
        "id": "gxOZdIXRjVQG"
      },
      "source": [
        "Whenever you derive a class from implementing a factory method as a **class method**, it ensures correct instance creation of the derived class."
      ]
    },
    {
      "cell_type": "code",
      "execution_count": 28,
      "metadata": {
        "id": "DXkpMrFPjeAP"
      },
      "outputs": [
        {
          "data": {
            "text/plain": [
              "'smart homo sapiens'"
            ]
          },
          "execution_count": 28,
          "metadata": {},
          "output_type": "execute_result"
        }
      ],
      "source": [
        "from datetime import date\n",
        "\n",
        "class Person:\n",
        "    whoIs=\"homo sapiens\"\n",
        "    def __init__(self, name, age):\n",
        "        self.name = name\n",
        "        self.age = age\n",
        "\n",
        "    def introduceyourself(self):\n",
        "        print(\"My name is \" + self.name)\n",
        "        print(\"My age is \" + str(self.age))\n",
        "\n",
        "    @classmethod\n",
        "    def fromBirthYear(cls, name, birthYear):\n",
        "        return cls(name, date.today().year - birthYear)\n",
        "\n",
        "\n",
        "class Instructor(Person): #this class inherits the class Person\n",
        "    whoIs=\"smart homo sapiens\"\n",
        "    def __init__(self, name, age):\n",
        "        self.courses = [] #initialise a new variable\n",
        "        super().__init__(name,age) #call the init of Person\n",
        "\n",
        "\n",
        "instructor1 = Instructor(\"Hanna\",20)\n",
        "instructor1.whoIs"
      ]
    },
    {
      "cell_type": "code",
      "execution_count": 29,
      "metadata": {},
      "outputs": [
        {
          "name": "stdout",
          "output_type": "stream",
          "text": [
            "True\n"
          ]
        }
      ],
      "source": [
        "print(isinstance(instructor1, Instructor))"
      ]
    },
    {
      "cell_type": "code",
      "execution_count": 32,
      "metadata": {},
      "outputs": [
        {
          "name": "stdout",
          "output_type": "stream",
          "text": [
            "True\n"
          ]
        }
      ],
      "source": [
        "instructor2 = Instructor.fromBirthYear(\"Hanna\",2010)\n",
        "print(isinstance(instructor2, Instructor))"
      ]
    },
    {
      "cell_type": "markdown",
      "metadata": {},
      "source": [
        "### Abstract Base Classes in Python"
      ]
    },
    {
      "cell_type": "markdown",
      "metadata": {},
      "source": [
        "**Abstract base** classes exist to be inherited, but never instantiated. \n",
        "\n",
        "Python provides the `abc` module to formally define abstract base classes."
      ]
    },
    {
      "cell_type": "markdown",
      "metadata": {},
      "source": [
        "You can use  `underscores` in your class name to communicate that objects of that class shouldn’t be created. Underscores provide a friendly way , but they don’t prevent eager users from creating instances of that class."
      ]
    },
    {
      "cell_type": "markdown",
      "metadata": {},
      "source": [
        "The `abc module` in the Python standard library provides functionality to prevent creating objects from abstract base classes."
      ]
    },
    {
      "cell_type": "code",
      "execution_count": 34,
      "metadata": {},
      "outputs": [],
      "source": [
        "from abc import ABC, abstractmethod"
      ]
    },
    {
      "cell_type": "code",
      "execution_count": 35,
      "metadata": {},
      "outputs": [],
      "source": [
        "class Person(ABC):\n",
        "    def __init__(self, id, name):\n",
        "        self.id = id\n",
        "        self.name = name\n",
        "        \n",
        "    @abstractmethod\n",
        "    def greeting(self):\n",
        "        pass"
      ]
    },
    {
      "cell_type": "markdown",
      "metadata": {},
      "source": [
        "we  decorate the `.greeting()` method with the **@abstractmethod** decorator."
      ]
    },
    {
      "cell_type": "markdown",
      "metadata": {},
      "source": [
        "# Composition"
      ]
    },
    {
      "cell_type": "markdown",
      "metadata": {},
      "source": [
        "**Composition** is a concept that models a `has a` relationship. It enables creating complex types by combining objects of other types.\n",
        "\n",
        "This means that a class Composite can contain an object of another class Component. This relationship means that a `Composite has a Component`."
      ]
    },
    {
      "attachments": {
        "image.png": {
          "image/png": "[encoded data removed]"
        }
      },
      "cell_type": "markdown",
      "metadata": {},
      "source": [
        "![image.png](attachment:image.png)"
      ]
    },
    {
      "cell_type": "markdown",
      "metadata": {},
      "source": [
        "The **cardinality** indicates the number or the valid range of Component instances that the Composite class will contain."
      ]
    },
    {
      "cell_type": "markdown",
      "metadata": {},
      "source": [
        "https://realpython.com/inheritance-composition-python/"
      ]
    },
    {
      "cell_type": "markdown",
      "metadata": {
        "id": "RGh2RkUH1s2-"
      },
      "source": [
        "**Exercise 1:**\n",
        "Our app has users that are either instructors or students.\n",
        "\n",
        "Instructors and students will share certain attributes and have certain behaviors that are unique to them.\n",
        "You'll be defining a Person class that both students and instructors inherit from and you'll be writing methods within both the Instructor and Student class that are unique to that class.\n",
        "\n",
        "1. Define the Person class such that a user is instantiated with a first_name and last_name. These should be saved as attributes.\n",
        "\n",
        "2. We've given you a barebones Instructor class in instructor.py\n",
        "\n",
        "We've given you a list of knowledge strings below; modify the Instructor class so that it initializes with this list. Use @property syntax to create your property knowledge.\n",
        "\n",
        "3. Create the teach() method in the Instructor class so that it returns a random element from knowledge list. We need to import Python's random library. You will want to use the random.randint() method to choose a random index in knowledge list. This method takes 2 arguments, a minimum number and a maximum number, and returns a random element in the range.\n",
        "\n",
        "4. We've given you a barebones Student class. Individual students should initialize with an attribute, knowledge, that points to an empty list.\n",
        "\n",
        "5. Create the learn() method in the Student class so that in takes in a string and adds that string to the student's knowledge list\n"
      ]
    },
    {
      "cell_type": "code",
      "execution_count": null,
      "metadata": {
        "id": "YKJd1S5b6gEX"
      },
      "outputs": [],
      "source": [
        "knowledge = [\n",
        "    \"str is a data type in Python\",\n",
        "    \"programming is hard, but it's worth it\",\n",
        "    \"JavaScript async web request\",\n",
        "    \"Python function call definition\",\n",
        "    \"object-oriented teacher instance\",\n",
        "    \"programming computers hacking learning terminal\",\n",
        "    \"pipenv install pipenv shell\",\n",
        "    \"pytest -x flag to fail fast\",\n",
        "]"
      ]
    },
    {
      "cell_type": "markdown",
      "metadata": {
        "id": "IEPxYaaPv4Zh"
      },
      "source": [
        "**Operator overloading**\n",
        "If you write your own classes, you can define what needs to happen if an operator such as for example `+`,`/` or `<` is used on your class.\n",
        "\n",
        "You can also define what happens when the keyword `in` or built-in functions such as `len()` are you used with your class. This allows for a very elegant way of programming.\n",
        "\n",
        "Each of these operators and built-in functions have an associated method which you can overload. All of these methods start, like `__init__`, with a double underscore.\n"
      ]
    },
    {
      "cell_type": "markdown",
      "metadata": {
        "id": "4gSczxh_xhrg"
      },
      "source": [
        "For example. Let's allow comparison of persons using the '<' and '>' operators. The methods for the opertors are respectively __lt__ and __gt__, both take one argument, the other object to compare to. A person qualifies as older than another if the age value is bigger:"
      ]
    },
    {
      "cell_type": "code",
      "execution_count": null,
      "metadata": {
        "id": "YgalTgqUx1ts"
      },
      "outputs": [],
      "source": [
        "from datetime import date\n",
        "\n",
        "class Person:\n",
        "    whoIs=\"homo sapiens\"\n",
        "    def __init__(self, name, age):\n",
        "        self.name = name\n",
        "        self.age = age\n",
        "\n",
        "    def __lt__(self, other):\n",
        "        return self.age < other.age\n",
        "\n",
        "    def __gt__(self, other):\n",
        "        return self.age > other.age\n",
        "\n",
        "instructor1 = Instructor(\"Hanna\",30)\n",
        "instructor2 = Instructor(\"Franco\",20)\n",
        "print(instructor1 > instructor2)"
      ]
    },
    {
      "cell_type": "markdown",
      "metadata": {
        "id": "gDkRtQ4fyaX_"
      },
      "source": [
        "You may not yet see much use in this, but consider for example the built-in function sorted().\n",
        "\n",
        "Having such methods defined now means we can sort our persons.\n",
        "\n",
        "And because we defined the methods __lt__ and __gt__ based on time. It will automatically sort them on time, from old to young."
      ]
    },
    {
      "cell_type": "markdown",
      "metadata": {
        "id": "va6gzcy67z-X"
      },
      "source": []
    },
    {
      "cell_type": "code",
      "execution_count": null,
      "metadata": {
        "id": "fmx0OxiuyhAx"
      },
      "outputs": [],
      "source": [
        "CSdepartment = [instructor2,instructor1]\n",
        "\n",
        "for instructor in sorted(CSdepartment):\n",
        "    print(instructor.name)"
      ]
    },
    {
      "cell_type": "markdown",
      "metadata": {
        "id": "9Jp5Bi4j7zUM"
      },
      "source": [
        "Remember the in keyword? Used checking items in lists and keys in dictionaries?"
      ]
    },
    {
      "cell_type": "code",
      "execution_count": null,
      "metadata": {
        "id": "W7XhgA1l71Sh"
      },
      "outputs": [],
      "source": [
        "instructors = ['Hanna','Franco']\n",
        "print('hanna' in instructors)"
      ]
    },
    {
      "cell_type": "markdown",
      "metadata": {
        "id": "tfkWsEzF8EKu"
      },
      "source": [
        "Overloading this operator is done using the __contains__ method. It takes as extra argument the item that is being searched for ('hanna' in the above example)."
      ]
    },
    {
      "cell_type": "markdown",
      "metadata": {
        "id": "ceNPL0jO8JNa"
      },
      "source": [
        "**Exercise 2:**\n",
        "\n",
        "For Instructor, let's implement support for the *in* operator and have it check whether a certain element is in the knowledge list."
      ]
    },
    {
      "cell_type": "code",
      "execution_count": null,
      "metadata": {
        "id": "pGNTHobS8nIS"
      },
      "outputs": [],
      "source": [
        "class Instructor (Person):\n",
        "    #your code is here...\n",
        "\n",
        "    def __contains__(self, skill):\n",
        "        #Implement the method"
      ]
    },
    {
      "cell_type": "markdown",
      "metadata": {
        "id": "0bfQTdIK8-El"
      },
      "source": [
        "**Iteration over an object**\n",
        "Remember how we can iterate over lists and dictionaries using a for loop?\n"
      ]
    },
    {
      "cell_type": "code",
      "execution_count": null,
      "metadata": {
        "colab": {
          "base_uri": "https://localhost:8080/"
        },
        "id": "VVamcZH79FXn",
        "outputId": "ae166629-a655-4374-ca82-887f94771bc1"
      },
      "outputs": [
        {
          "name": "stdout",
          "output_type": "stream",
          "text": [
            "Hanna\n",
            "Franco\n"
          ]
        }
      ],
      "source": [
        "instructors = ['Hanna','Franco']\n",
        "for instructor in instructors:\n",
        "    print(instructor)"
      ]
    },
    {
      "cell_type": "markdown",
      "metadata": {
        "id": "u3am-bFv9dyi"
      },
      "source": [
        "We can do the same for our own object. We can make them support iteration.\n",
        "\n",
        "This is done by overloading the __iter__ method. It takes no extra arguments and should be a generator. Which if you recall means that you should use yield instead of return.\n",
        "\n",
        "Consider the following class Person, if we iterate over an instance of that class, we want to iterate over all hobbies. To make it more fun, let's iterate in chronologically sorted order:"
      ]
    },
    {
      "cell_type": "code",
      "execution_count": null,
      "metadata": {
        "id": "noo4_hQF9uC7"
      },
      "outputs": [],
      "source": [
        "class Person:\n",
        "    whoIs=\"homo sapiens\"\n",
        "    def __init__(self, name, age):\n",
        "        self.name = name\n",
        "        self.age = age\n",
        "        self.hobbies=[]\n",
        "\n",
        "    def append(self, hobby):\n",
        "      self.hobbies.append(hobby)\n",
        "\n",
        "    def __iter__(self):\n",
        "        for hobby in sorted(self.hobbies):\n",
        "            yield hobby"
      ]
    },
    {
      "cell_type": "markdown",
      "metadata": {
        "id": "MafBaHzh-f9v"
      },
      "source": [
        "**Exercise 3:**\n",
        "\n",
        "The method __len__ is invoked when the built-in function len() is used. We want it to return the number of skills a student has."
      ]
    },
    {
      "cell_type": "markdown",
      "metadata": {
        "id": "llFMmf39wStz"
      },
      "source": [
        "https://github.com/BenedictusAryo/OOP_Python/tree/master\n",
        "\n",
        "https://docs.python.org/3.8/\n",
        "\n",
        "https://docs.python.org/3/tutorial/classes.html#inheritance\n",
        "\n",
        "https://realpython.com/operator-function-overloading/\n",
        "\n",
        "https://realpython.com/inheritance-composition-python/\n"
      ]
    }
  ],
  "metadata": {
    "colab": {
      "provenance": []
    },
    "kernelspec": {
      "display_name": ".venv",
      "language": "python",
      "name": "python3"
    },
    "language_info": {
      "codemirror_mode": {
        "name": "ipython",
        "version": 3
      },
      "file_extension": ".py",
      "mimetype": "text/x-python",
      "name": "python",
      "nbconvert_exporter": "python",
      "pygments_lexer": "ipython3",
      "version": "3.13.0"
    }
  },
  "nbformat": 4,
  "nbformat_minor": 0
}
